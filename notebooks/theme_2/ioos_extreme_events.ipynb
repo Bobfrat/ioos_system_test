{
 "metadata": {
  "name": ""
 },
 "nbformat": 3,
 "nbformat_minor": 0,
 "worksheets": [
  {
   "cells": [
    {
     "cell_type": "markdown",
     "metadata": {},
     "source": [
      "># IOOS System Test: [Extreme Events Theme:](https://github.com/ioos/system-test/wiki/Development-of-Test-Themes#theme-2-extreme-events) Inundation"
     ]
    },
    {
     "cell_type": "markdown",
     "metadata": {},
     "source": [
      "### Can we discover, access, and compare observed water levels, waves, and winds from different agencies (e.g. USGS and CO-OPS) to modeled water levels, waves, and winds within a particular bounding box and time period?"
     ]
    },
    {
     "cell_type": "heading",
     "level": 4,
     "metadata": {},
     "source": [
      "import required libraries"
     ]
    },
    {
     "cell_type": "code",
     "collapsed": false,
     "input": [
      "import matplotlib.pyplot as plt\n",
      "from pylab import *\n",
      "import sys\n",
      "import csv\n",
      "import json\n",
      "from scipy.stats import genextreme\n",
      "import numpy as np\n",
      "\n",
      "from owslib.csw import CatalogueServiceWeb\n",
      "from owslib import fes\n",
      "import random\n",
      "import netCDF4\n",
      "import pandas as pd\n",
      "import datetime as dt\n",
      "#from pyoos.collectors.coops.coops_sos import CoopsSos\n",
      "import cStringIO\n",
      "#import iris\n",
      "import urllib2\n",
      "import parser\n",
      "from lxml import etree       #TODO suggest using bs4 instead for ease of access to XML objects\n",
      "\n",
      "#generated for csw interface\n",
      "import date_range_formatter  #date formatter (R.Signell)\n",
      "import requests              #required for the processing of requests\n",
      "from bs4 import *            #required for the xml parsing of getcaps and get obs"
     ],
     "language": "python",
     "metadata": {},
     "outputs": [],
     "prompt_number": 242
    },
    {
     "cell_type": "heading",
     "level": 4,
     "metadata": {},
     "source": [
      "Speficy Temporal and Spatial conditions"
     ]
    },
    {
     "cell_type": "code",
     "collapsed": false,
     "input": [
      "from IPython.display import HTML\n",
      "import folium #required for leaflet mapping\n",
      "\n",
      "#bounding box of interest, or polygon, [bottom right[lat,lon], top left[lat,lon]]\n",
      "bounding_box_type = \"box\"  #or poly TODO\n",
      "bounding_box = [[-73.94,40.67],[-69.94,42]]\n",
      "\n",
      "#temporal range\n",
      "start_date = dt.datetime(1991,5,1).strftime('%Y-%m-%d %H:00')\n",
      "end_date = dt.datetime(2014,5,7).strftime('%Y-%m-%d %H:00')\n",
      "time_date_range = [start_date,end_date]  #start_date_end_date\n",
      "\n",
      "print start_date,'to',stop_date"
     ],
     "language": "python",
     "metadata": {},
     "outputs": [
      {
       "output_type": "stream",
       "stream": "stdout",
       "text": [
        "1991-05-01 00:00 to 2014-05-07 00:00\n"
       ]
      }
     ],
     "prompt_number": 243
    },
    {
     "cell_type": "code",
     "collapsed": false,
     "input": [
      "def get_coordinates(bounding_box,bounding_box_type):\n",
      "    #create bounding box coordinates for the map\n",
      "    coordinates = []\n",
      "    if bounding_box_type is \"box\":\n",
      "        coordinates.append([bounding_box[0][1],bounding_box[0][0]])\n",
      "        coordinates.append([bounding_box[0][1],bounding_box[1][0]])\n",
      "        coordinates.append([bounding_box[1][1],bounding_box[1][0]])\n",
      "        coordinates.append([bounding_box[1][1],bounding_box[0][0]])\n",
      "        coordinates.append([bounding_box[0][1],bounding_box[0][0]])\n",
      "        return coordinates"
     ],
     "language": "python",
     "metadata": {},
     "outputs": [],
     "prompt_number": 244
    },
    {
     "cell_type": "markdown",
     "metadata": {},
     "source": [
      "[Rich Signell Notebook](http://nbviewer.ipython.org/github/rsignell-usgs/notebook/blob/fef9438303b49a923024892db1ef3115e34d8271/CSW/IOOS_inundation.ipynb)"
     ]
    },
    {
     "cell_type": "code",
     "collapsed": false,
     "input": [
      "endpoint = 'http://www.ngdc.noaa.gov/geoportal/csw' # NGDC Geoportal\n",
      "\n",
      "csw = CatalogueServiceWeb(endpoint,timeout=60)\n",
      "\n",
      "for oper in csw.operations:\n",
      "    if oper.name == 'GetRecords':\n",
      "        print '\\nISO Queryables:\\n',oper.constraints['SupportedISOQueryables']['values']\n",
      "        \n",
      "name_list=['water_surface_height_above_reference_datum',\n",
      "    'sea_surface_height_above_geoid','sea_surface_elevation',\n",
      "    'sea_surface_height_above_reference_ellipsoid','sea_surface_height_above_sea_level',\n",
      "    'sea_surface_height','water level']\n",
      "\n",
      "sos_name = 'water_surface_height_above_reference_datum'"
     ],
     "language": "python",
     "metadata": {},
     "outputs": [
      {
       "output_type": "stream",
       "stream": "stdout",
       "text": [
        "\n",
        "ISO Queryables:\n",
        "['apiso:Subject', 'apiso:Title', 'apiso:Abstract', 'apiso:AnyText', 'apiso:Format', 'apiso:Identifier', 'apiso:Modified', 'apiso:Type', 'apiso:BoundingBox', 'apiso:CRS.Authority', 'apiso:CRS.ID', 'apiso:CRS.Version', 'apiso:RevisionDate', 'apiso:AlternateTitle', 'apiso:CreationDate', 'apiso:PublicationDate', 'apiso:OrganizationName', 'apiso:HasSecurityConstraints', 'apiso:Language', 'apiso:ResourceIdentifier', 'apiso:ParentIdentifier', 'apiso:KeywordType', 'apiso:TopicCategory', 'apiso:ResourceLanguage', 'apiso:GeographicDescriptionCode', 'apiso:Denominator', 'apiso:DistanceValue', 'apiso:DistanceUOM', 'apiso:TempExtent_begin', 'apiso:TempExtent_end', 'apiso:ServiceType', 'apiso:ServiceTypeVersion', 'apiso:Operation', 'apiso:OperatesOn', 'apiso:OperatesOnIdentifier', 'apiso:OperatesOnName', 'apiso:CouplingType']\n"
       ]
      }
     ],
     "prompt_number": 245
    },
    {
     "cell_type": "code",
     "collapsed": false,
     "input": [
      "# convert User Input into FES filters\n",
      "start,stop = dateRange(start_date,end_date)\n",
      "box = []\n",
      "box.append(bounding_box[0][0])\n",
      "box.append(bounding_box[0][1])\n",
      "box.append(bounding_box[1][0])\n",
      "box.append(bounding_box[1][1])\n",
      "bbox = fes.BBox(box)\n",
      "\n",
      "or_filt = fes.Or([fes.PropertyIsLike(propertyname='apiso:AnyText',literal=('*%s*' % val),\n",
      "                    escapeChar='\\\\',wildCard='*',singleChar='?') for val in std_name_list])\n",
      "val = 'Averages'\n",
      "not_filt = fes.Not([fes.PropertyIsLike(propertyname='apiso:AnyText',literal=('*%s*' % val),\n",
      "                        escapeChar='\\\\',wildCard='*',singleChar='?')])"
     ],
     "language": "python",
     "metadata": {},
     "outputs": [],
     "prompt_number": 246
    },
    {
     "cell_type": "code",
     "collapsed": false,
     "input": [
      "filter_list = [fes.And([ bbox, start, stop, or_filt, not_filt]) ]\n",
      "# connect to CSW, explore it's properties\n",
      "# try request using multiple filters \"and\" syntax: [[filter1,filter2]]\n",
      "csw.getrecords2(constraints=filter_list,maxrecords=1000,esn='full')"
     ],
     "language": "python",
     "metadata": {},
     "outputs": [],
     "prompt_number": 247
    },
    {
     "cell_type": "code",
     "collapsed": false,
     "input": [
      "def service_urls(records,service_string='urn:x-esri:specification:ServiceType:odp:url'):\n",
      "    \"\"\"\n",
      "    extract service_urls of a specific type (DAP, SOS) from records\n",
      "    \"\"\"\n",
      "    urls=[]\n",
      "    for key,rec in records.iteritems():\n",
      "        #create a generator object, and iterate through it until the match is found\n",
      "        #if not found, gets the default value (here \"none\")\n",
      "        url = next((d['url'] for d in rec.references if d['scheme'] == service_string), None)\n",
      "        if url is not None:\n",
      "            urls.append(url)\n",
      "    return urls"
     ],
     "language": "python",
     "metadata": {},
     "outputs": [],
     "prompt_number": 248
    },
    {
     "cell_type": "markdown",
     "metadata": {},
     "source": [
      "###This would help get the model data"
     ]
    },
    {
     "cell_type": "code",
     "collapsed": false,
     "input": [
      "#print records that are available\n",
      "print len(csw.records.keys())\n",
      "print \"\\n\".join(csw.records.keys())\n",
      "#print sos urls\n",
      "sos_urls = service_urls(csw.records,service_string='urn:x-esri:specification:ServiceType:sos:url')\n",
      "print \"\\n\".join(sos_urls)"
     ],
     "language": "python",
     "metadata": {},
     "outputs": [
      {
       "output_type": "stream",
       "stream": "stdout",
       "text": [
        "215\n",
        "gov.noaa.nos.d00001-d02000:D00149\n",
        "gov.noaa.ngdc.mgg.seismic:EX1304L2_SubbottomProfiler\n",
        "gov.noaa.nos.h10001-h12000:H10575\n",
        "gov.noaa.ngdc.mgg.dem:385\n",
        "gov.noaa.nos.h10001-h12000:H10914\n",
        "inundation_tropical.VIMS_SELFE.Hurricane_Ike_2D_final_run_with_waves\n",
        "gov.noaa.nos.h12001-h14000:H12010\n",
        "inundation_tropical.VIMS_SELFE.Hurricane_Rita_2D_final_run_with_waves\n",
        "inundation_tropical.VIMS_SELFE.Hurricane_Ike_2D_final_run_without_waves\n",
        "gov.noaa.nos.f00001-f02000:F00396\n",
        "gov.noaa.csc.maps:1997_FallWC_m3\n",
        "gov.noaa.nos.h10001-h12000:H11078\n",
        "gov.noaa.csc.maps:ct2010_usda_east_m2598\n",
        "inundation_tropical.VIMS_SELFE.Hurricane_Rita_3D_final_run_with_waves\n",
        "gov.noaa.nos.h10001-h12000:H10458\n",
        "inundation_tropical.VIMS_SELFE.Hurricane_Rita_3D_final_run_without_waves\n",
        "gov.noaa.ngdc.mgg.dem:280\n",
        "complete_latest\n",
        "gov.noaa.nos.h10001-h12000:H10618\n",
        "gov.noaa.nos.h10001-h12000:H10504\n",
        "gov.noaa.ngdc.mgg.geology:G03298\n",
        "gov.noaa.nos.h10001-h12000:H10612\n",
        "gov.noaa.nos.f00001-f02000:F00378\n",
        "gov.noaa.nos.h10001-h12000:H10611\n",
        "gov.noaa.ngdc.mgg.wcd:EX1305_WaterColumn\n",
        "inundation_tropical.VIMS_SELFE.Hurricane_Ike_3D_final_run_without_waves\n",
        "gov.noaa.nos.h10001-h12000:H10424\n",
        "gov.noaa.csc.maps:2012_USACE_PostSandy_MA_RI_m1435\n",
        "dist2coast_1deg\n",
        "gov.noaa.nos.h10001-h12000:H10984\n",
        "gov.noaa.nos.h10001-h12000:H10900\n",
        "gov.noaa.nos.h10001-h12000:H10616\n",
        "gov.noaa.nos.f00001-f02000:F00374\n",
        "gov.noaa.ngdc:global\n",
        "gov.noaa.ngdc.mgg.seismic:EX1303_SubbottomProfiler\n",
        "gov.noaa.nos.h10001-h12000:H10817\n",
        "gov.noaa.csc.maps:1997_CA_Sacramento_m59\n",
        "inundation_tropical.VIMS_SELFE.Hurricane_Ike_3D_final_run_with_waves\n",
        "hycom_global\n",
        "gov.noaa.nos.h10001-h12000:H11930\n",
        "gov.noaa.ngdc.mgg.wcd:EX1303_WaterColumn\n",
        "gov.noaa.nos.f00001-f02000:F00377\n",
        "gov.noaa.nos.h10001-h12000:H11224\n",
        "gov.noaa.nos.h10001-h12000:H11225\n",
        "gov.noaa.nos.h10001-h12000:H10422\n",
        "estofs/atlantic\n",
        "gov.noaa.nos.h10001-h12000:H10530\n",
        "gov.noaa.nos.h10001-h12000:H10625\n",
        "necofs_gom3_wave\n",
        "gov.noaa.nos.h10001-h12000:H11361\n",
        "erdMHchla8day\n",
        "gov.noaa.nos.h10001-h12000:H11011\n",
        "gov.noaa.ngdc.mgg.hazards:G01145\n",
        "gov.noaa.nos.w00001-w02000:W00203\n",
        "gov.noaa.nos.h10001-h12000:H11353\n",
        "gov.noaa.nos.h10001-h12000:H11255\n",
        "gov.noaa.ngdc.mgg.wcd:EX1301_EK60_Water_Column\n",
        "gov.noaa.nos.h10001-h12000:H10633\n",
        "gov.noaa.nos.h10001-h12000:H11251\n",
        "gov.noaa.nos.h10001-h12000:H11250\n",
        "gov.noaa.nos.h10001-h12000:H11252\n",
        "gov.noaa.ngdc.mgg.wcd:EX1303_Singlebeam\n",
        "gov.noaa.ngdc.mgg.seismic:EX1206_SubbottomProfiler\n",
        "gov.noaa.ngdc.mgg.geology:G10164\n",
        "gov.noaa.nos.h10001-h12000:H10930\n",
        "gov.noaa.nos.h10001-h12000:H11310\n",
        "gov.noaa.csc.maps:1998_FallEC_m6\n",
        "gov.noaa.nos.h10001-h12000:H10520\n",
        "gov.noaa.nos.h10001-h12000:H11318\n",
        "gov.noaa.nos.h10001-h12000:H11319\n",
        "gov.noaa.ngdc.mgg.wcd:EX1304L2_Singlebeam\n",
        "gov.noaa.nos.h10001-h12000:H11360\n",
        "gov.noaa.nos.h12001-h14000:H12007\n",
        "gov.noaa.nos.f00001-f02000:F00400\n",
        "gov.noaa.nos.h12001-h14000:H12009\n",
        "gov.noaa.nos.h10001-h12000:H11321\n",
        "gov.noaa.nos.d00001-d02000:D00111\n",
        "gov.noaa.nos.h10001-h12000:H11320\n",
        "gov.noaa.nos.h10001-h12000:H10461\n",
        "gov.noaa.ngdc.mgg.geology:G00996\n",
        "gov.noaa.csc.maps:2012_USACE_PostSandy_Connecticut_m1434\n",
        "gov.noaa.ngdc.mgg.dem:599\n",
        "gov.noaa.nos.f00001-f02000:F00360\n",
        "gov.noaa.nos.h10001-h12000:H10641\n",
        "gov.noaa.nos.f00001-f02000:F00367\n",
        "gov.noaa.csc.maps:1998_SpringEC_m5\n",
        "gov.noaa.nos.h10001-h12000:H10649\n",
        "gov.noaa.nos.h10001-h12000:H10648\n",
        "gov.noaa.nos.h10001-h12000:H10404\n",
        "inundation_tropical.VIMS_SELFE.Hurricane_Ike_2D_final_run_wave_only\n",
        "gov.noaa.nos.h10001-h12000:H10559\n",
        "gov.noaa.nos.h10001-h12000:H10558\n",
        "gov.noaa.nos.h12001-h14000:H12083\n",
        "gov.noaa.nos.h10001-h12000:H10556\n",
        "gov.noaa.ngdc.mgg.wcd:EX1304L1_WaterColumn\n",
        "gov.noaa.nos.h12001-h14000:H12012\n",
        "gov.noaa.nos.h12001-h14000:H12013\n",
        "gov.noaa.nos.h10001-h12000:H10795\n",
        "gov.noaa.nos.h12001-h14000:H12011\n",
        "gov.noaa.nos.h10001-h12000:H11079\n",
        "gov.noaa.csc.maps:1998_NorthEast_m7\n",
        "gov.noaa.nos.h12001-h14000:H12015\n",
        "gov.noaa.nos.h10001-h12000:H11077\n",
        "gov.noaa.nos.h10001-h12000:H11076\n",
        "gov.noaa.ngdc.mgg.seismic:EX1302_SubbottomProfiler\n",
        "gov.noaa.nos.h10001-h12000:H10659\n",
        "gov.noaa.ngdc.mgg.wcd:EX1304L1_Singlebeam\n",
        "gov.noaa.nos.h10001-h12000:H10654\n",
        "gov.noaa.nos.f00001-f02000:F00463\n",
        "gov.noaa.nos.h12001-h14000:H12137\n",
        "gov.noaa.nos.h10001-h12000:H10651\n",
        "gov.noaa.nos.f00001-f02000:F00469\n",
        "NOAA.NOS.CO-OPS SOS\n",
        "gov.noaa.csc.maps:1998_FallGC_m22\n",
        "gov.noaa.nos.h10001-h12000:H10496\n",
        "gov.noaa.csc.maps:2012_NYDES_Lidar_m1408\n",
        "gov.noaa.ngdc.mgg.wcd:EX1302_WaterColumn\n",
        "gov.noaa.nos.h12001-h14000:H12153\n",
        "gov.noaa.csc.maps:1999_FallGC_m9\n",
        "massbay_nocache\n",
        "gov.noaa.ngdc.mgg.wcd:EX1304L2_WaterColumn\n",
        "gov.noaa.nos.h10001-h12000:H10548\n",
        "gov.noaa.nos.h10001-h12000:H10547\n",
        "gov.noaa.nos.h10001-h12000:H10498\n",
        "gov.noaa.nos.h10001-h12000:H10711\n",
        "gov.noaa.nos.h10001-h12000:H10541\n",
        "gov.noaa.nos.h10001-h12000:H10788\n",
        "gov.noaa.nos.h10001-h12000:H11346\n",
        "gov.noaa.nos.h10001-h12000:H10540\n",
        "gov.noaa.nos.h12001-h14000:H12023\n",
        "gov.noaa.ngdc.mgg.seismic:EX1204_SubbottomProfiler\n",
        "inundation_tropical.VIMS_SELFE.Hurricane_Rita_2D_final_run_without_waves\n",
        "gov.noaa.nos.h10001-h12000:H10628\n",
        "gov.noaa.nos.f00001-f02000:F00491\n",
        "gov.noaa.csc.maps:1996_FallEC_m1\n",
        "gov.noaa.csc.maps:1997_FallEC_m2\n",
        "gov.noaa.nos.h10001-h12000:H11988\n",
        "gov.noaa.nos.f00001-f02000:F00565\n",
        "gov.noaa.nos.h10001-h12000:H10511\n",
        "gov.noaa.csc.maps:1999_SC-NC-VA-Post-Floyd_m61\n",
        "dist2coast_4deg\n",
        "gov.noaa.nos.h10001-h12000:H11445\n",
        "gov.noaa.csc.maps:1998_SpringWC_m4\n",
        "gov.noaa.ngdc.mgg.geology:G00127\n",
        "gov.noaa.nos.f00001-f02000:F00411\n",
        "gov.noaa.nos.f00001-f02000:F00559\n",
        "gov.noaa.ngdc.mgg.dem:greatlakes_bathymetry\n",
        "gov.noaa.ngdc.mgg.seismic:EX1205L2_SubbottomProfiler\n",
        "gov.noaa.nos.h10001-h12000:H10434\n",
        "gov.noaa.nos.f00001-f02000:F00550\n",
        "gov.noaa.nos.f00001-f02000:F00368\n",
        "gov.noaa.nos.h10001-h12000:H11996\n",
        "gov.noaa.nos.h10001-h12000:H11997\n",
        "gov.noaa.nos.h10001-h12000:H11995\n",
        "gov.noaa.nos.f00001-f02000:F00363\n",
        "gov.noaa.nos.h10001-h12000:H10378\n",
        "gov.noaa.nos.h10001-h12000:H11999\n",
        "gov.noaa.csc.maps:ct2006_fema_coastal_m1468\n",
        "gov.noaa.nos.f00001-f02000:F00365\n",
        "gov.noaa.nos.f00001-f02000:F00364\n",
        "gov.noaa.ngdc.mgg.wcd:EX1302_Singlebeam\n",
        "gov.noaa.nos.h12001-h14000:H12139\n",
        "stationHRMARPH-agg\n",
        "gov.noaa.nos.h12001-h14000:H12033\n",
        "gov.noaa.ngdc.mgg.seismic:EX1304L1_SubbottomProfiler\n",
        "gov.noaa.nos.h10001-h12000:H11695\n",
        "gov.noaa.csc.maps:1999_SC-NC-VA_Post-Dennis_m60\n",
        "gov.noaa.nos.f00001-f02000:F00498\n",
        "gov.noaa.nos.f00001-f02000:F00406\n",
        "gov.noaa.csc.maps:ct2011_usda_northwest_m2597\n",
        "gov.noaa.nos.h10001-h12000:H11929\n",
        "gov.noaa.nos.h10001-h12000:H10563\n",
        "gov.noaa.ngdc.mgg.seismic:EX1205L1_SubbottomProfiler\n",
        "gov.noaa.nos.h10001-h12000:H11922\n",
        "gov.noaa.nos.h10001-h12000:H11921\n",
        "gov.noaa.nos.h10001-h12000:H11920\n",
        "gov.noaa.ngdc.mgg.geology:G01013\n",
        "roms/espresso/2013_da/his_Best/ESPRESSO_Real-Time_v2_History_Best_Available_best.ncd\n",
        "gov.noaa.nos.f00001-f02000:F00379\n",
        "gov.noaa.nos.f00001-f02000:F00521\n",
        "gov.noaa.nos.f00001-f02000:F00375\n",
        "gov.noaa.nos.f00001-f02000:F00376\n",
        "gov.noaa.nos.f00001-f02000:F00522\n",
        "gov.noaa.nos.f00001-f02000:F00372\n",
        "gov.noaa.nos.f00001-f02000:F00373\n",
        "gov.noaa.csc.maps:2000_SummerEC_m10\n",
        "gov.noaa.nos.h10001-h12000:H10542\n",
        "gov.noaa.nos.h10001-h12000:H10565\n",
        "gov.noaa.ngdc.mgg.wcd:EX1301_EM302_Water_Column\n",
        "gov.noaa.ngdc.mgg.seismic:EX1301_SubbottomProfiler\n",
        "gov.noaa.csc.maps:2000_FallEC_m11\n",
        "gov.noaa.nos.h10001-h12000:H11322\n",
        "gov.noaa.csc.maps:1998_WinterEC_m38\n",
        "gov.noaa.ngdc.mgg.dem:316\n",
        "gov.noaa.nos.h10001-h12000:H10720\n",
        "coawst_4/use/fmrc/coawst_4_use_best.ncd\n",
        "gov.noaa.nos.h10001-h12000:H11441\n",
        "gov.noaa.nos.h10001-h12000:H11442\n",
        "NYOFS/fmrc/Aggregated_7_day_NYOFS_Fields_Forecast_best.ncd\n",
        "gov.noaa.nos.h12001-h14000:H12324\n",
        "gov.noaa.nos.h10001-h12000:H11636\n",
        "gov.noaa.nos.h10001-h12000:H11446\n",
        "gov.noaa.csc.maps:ne2011_usgs_lftne_m2524\n",
        "gov.noaa.nos.h10001-h12000:H10772\n",
        "gov.noaa.csc.maps:1998_PA_Harrisburg_m58\n",
        "stationHRPMNTH-agg\n",
        "gov.noaa.nos.h10001-h12000:H11044\n",
        "gov.noaa.nos.h10001-h12000:H11045\n",
        "gov.noaa.ngdc.stp.solar:solar-features_solar-features_solar-radio\n",
        "gov.noaa.nos.h10001-h12000:H11043\n",
        "gov.noaa.csc.maps:1999_FallEC_m8\n",
        "TEST.NOAA.NOS.CO-OPS SOS\n",
        "gov.noaa.nos.h10001-h12000:H10605\n",
        "gom3_nocache\n",
        "tide_pac\n",
        "http://opendap.co-ops.nos.noaa.gov/ioos-dif-sos/SOS?service=SOS&request=GetCapabilities\n",
        "http://opendap.co-ops.nos.noaa.gov/ioos-dif-sos/SOS?service=SOS&request=GetCapabilities\n"
       ]
      }
     ],
     "prompt_number": 238
    },
    {
     "cell_type": "markdown",
     "metadata": {},
     "source": [
      "[Rich Signell Notebook](http://nbviewer.ipython.org/github/rsignell-usgs/notebook/blob/fef9438303b49a923024892db1ef3115e34d8271/CSW/IOOS_inundation.ipynb)"
     ]
    },
    {
     "cell_type": "markdown",
     "metadata": {},
     "source": [
      "### SOS Requirements"
     ]
    },
    {
     "cell_type": "code",
     "collapsed": false,
     "input": [
      "#use the get caps to get station start and get time"
     ],
     "language": "python",
     "metadata": {},
     "outputs": []
    },
    {
     "cell_type": "code",
     "collapsed": false,
     "input": [
      "collector.start_time = dt.datetime.strptime(start_date,'%Y-%m-%d %H:%M')\n",
      "collector.end_time = dt.datetime.strptime(stop_date,'%Y-%m-%d %H:%M')"
     ],
     "language": "python",
     "metadata": {},
     "outputs": [],
     "prompt_number": 272
    },
    {
     "cell_type": "code",
     "collapsed": false,
     "input": [
      "iso_start = collector.start_time.strftime('%Y-%m-%dT%H:%M:%SZ')\n",
      "iso_end = collector.end_time.strftime('%Y-%m-%dT%H:%M:%SZ')\n",
      "print \"Date: \",iso_start,\" to \", iso_end\n",
      "box_str=','.join(str(e) for e in box)\n",
      "print \"Lat/Lon Box: \",box_str\n",
      "url=('http://opendap.co-ops.nos.noaa.gov/ioos-dif-sos/SOS?'\n",
      "     'service=SOS&request=GetObservation&version=1.0.0&'\n",
      "     'observedProperty=%s&offering=urn:ioos:network:NOAA.NOS.CO-OPS:WaterLevelActive&'\n",
      "     'featureOfInterest=BBOX:%s&responseFormat=text/tab-separated-values&eventTime=%s') % (sos_name,box_str,iso_end)\n",
      "r = requests.get(url)\n",
      "data = r.text\n",
      "#get the headers for the cols\n",
      "data = data.split(\"\\n\")\n",
      "headers =  data[0]\n",
      "station_list_dict = dict()\n",
      "#sort out and parse the headers so i can create a dict\n",
      "c = 0\n",
      "for h in headers.split(\"\\t\"):\n",
      "    field = h.split(\":\")[0].split(\" \")[0]\n",
      "    station_list_dict[field] = {\"id\":c}\n",
      "    c+=1\n",
      "print station_list_dict"
     ],
     "language": "python",
     "metadata": {},
     "outputs": [
      {
       "output_type": "stream",
       "stream": "stdout",
       "text": [
        "Date:  1991-05-01T00:00:00Z  to  2014-05-07T00:00:00Z\n",
        "Lat/Lon Box:  -73.94,40.67,-69.94,42\n",
        "{u'sensor_id': {'id': 1}, u'water_surface_height_above_reference_datum': {'id': 5}, u'longitude': {'id': 3}, u'datum_id': {'id': 6}, u'station_id': {'id': 0}, u'latitude': {'id': 2}, u'time_ISO8601': {'id': 4}, u'vertical_position': {'id': 7}}"
       ]
      },
      {
       "output_type": "stream",
       "stream": "stdout",
       "text": [
        "\n"
       ]
      }
     ],
     "prompt_number": 326
    },
    {
     "cell_type": "code",
     "collapsed": false,
     "input": [
      "#create dict of stations\n",
      "station_list = []\n",
      "for i in range(1,len(data)):\n",
      "    station_info = data[i].split(\"\\t\")\n",
      "    station = dict()\n",
      "    for field in station_list_dict.keys():        \n",
      "        col = station_list_dict[field][\"id\"]\n",
      "        if col < len(station_info):\n",
      "            station[field] = station_info[col]     \n",
      "    station_list.append(station)        "
     ],
     "language": "python",
     "metadata": {},
     "outputs": [],
     "prompt_number": 359
    },
    {
     "cell_type": "code",
     "collapsed": false,
     "input": [
      "#Embeds the HTML source of the map directly into the IPython notebook.\n",
      "def inline_map(map):   \n",
      "    map._build_map()\n",
      "    return HTML('<iframe srcdoc=\"{srcdoc}\" style=\"width: 100%; height: 500px; border: none\"></iframe>'.format(srcdoc=map.HTML.replace('\"', '&quot;')))\n",
      "\n",
      "map = folium.Map(location=[40, -99], zoom_start=4)\n",
      "\n",
      "map.circle_marker(location=[40.67, -79.94], radius=1000,\n",
      "                  popup='My Popup Info', line_color='#3186cc',\n",
      "                  fill_color='#3186cc', fill_opacity=0.9)\n",
      "\n",
      "for s in station_list:\n",
      "    if \"latitude\" in s:\n",
      "        popupString = 'Add <b>Station:</b>'+s['station_id']\n",
      "        map.simple_marker([s[\"latitude\"],s[\"longitude\"]])\n",
      "\n",
      "# Create the map and add the line\n",
      "\n",
      "map.line(get_coordinates(bounding_box,bounding_box_type), line_color='#FF0000', line_weight=5)\n",
      "\n",
      "inline_map(map)"
     ],
     "language": "python",
     "metadata": {},
     "outputs": [
      {
       "html": [
        "<iframe srcdoc=\"<!DOCTYPE html>\n",
        "<head>\n",
        "   <meta http-equiv=&quot;content-type&quot; content=&quot;text/html; charset=UTF-8&quot; />\n",
        "   <link rel=&quot;stylesheet&quot; href=&quot;http://cdn.leafletjs.com/leaflet-0.7.2/leaflet.css&quot; />\n",
        "   <script src=&quot;http://cdn.leafletjs.com/leaflet-0.7.2/leaflet.js&quot;></script>\n",
        "\n",
        "   \n",
        "   \n",
        "   \n",
        "   \n",
        "\n",
        "\n",
        "   <style>\n",
        "\n",
        "      #map {\n",
        "        position:absolute;\n",
        "        top:0;\n",
        "        bottom:0;\n",
        "        right:0;\n",
        "        left:0;\n",
        "      }\n",
        "\n",
        "   </style>\n",
        "</head>\n",
        "\n",
        "<body>\n",
        "\n",
        "   <div class=&quot;folium-map&quot; id=&quot;folium_5b4e355218d24ea5b70f44350d5907bf&quot; style=&quot;width: 960px; height: 500px&quot;></div>\n",
        "\n",
        "   <script>\n",
        "\n",
        "      \n",
        "\n",
        "      var map = L.map('folium_5b4e355218d24ea5b70f44350d5907bf').setView([40, -99], 4);\n",
        "\n",
        "      L.tileLayer('http://{s}.tile.openstreetmap.org/{z}/{x}/{y}.png', {\n",
        "          maxZoom: 18,\n",
        "          attribution: 'Map data (c) <a href=&quot;http://openstreetmap.org&quot;>OpenStreetMap</a> contributors'\n",
        "      }).addTo(map);\n",
        "\n",
        "      \n",
        "      var circle_1 = L.circle([40.67, -79.94], 1000, {\n",
        "                            color: '#3186cc',\n",
        "                            fillColor: '#3186cc',\n",
        "                            fillOpacity: 0.9\n",
        "                            });\n",
        "      circle_1.bindPopup(&quot;My Popup Info&quot;);\n",
        "      map.addLayer(circle_1)\n",
        "      \n",
        "      var marker_1 = L.marker([41.7043, -71.1641]);\n",
        "      marker_1.bindPopup(&quot;Pop Text&quot;);\n",
        "      map.addLayer(marker_1)\n",
        "      \n",
        "      var marker_2 = L.marker([41.6885, -69.9511]);\n",
        "      marker_2.bindPopup(&quot;Pop Text&quot;);\n",
        "      map.addLayer(marker_2)\n",
        "      \n",
        "      var marker_3 = L.marker([41.5233, -70.6717]);\n",
        "      marker_3.bindPopup(&quot;Pop Text&quot;);\n",
        "      map.addLayer(marker_3)\n",
        "      \n",
        "      var marker_4 = L.marker([41.2850, -70.0967]);\n",
        "      marker_4.bindPopup(&quot;Pop Text&quot;);\n",
        "      map.addLayer(marker_4)\n",
        "      \n",
        "      var marker_5 = L.marker([41.5050, -71.3267]);\n",
        "      marker_5.bindPopup(&quot;Pop Text&quot;);\n",
        "      map.addLayer(marker_5)\n",
        "      \n",
        "      var marker_6 = L.marker([41.7167, -71.3433]);\n",
        "      marker_6.bindPopup(&quot;Pop Text&quot;);\n",
        "      map.addLayer(marker_6)\n",
        "      \n",
        "      var marker_7 = L.marker([41.8071, -71.4012]);\n",
        "      marker_7.bindPopup(&quot;Pop Text&quot;);\n",
        "      map.addLayer(marker_7)\n",
        "      \n",
        "      var marker_8 = L.marker([41.5868, -71.4110]);\n",
        "      marker_8.bindPopup(&quot;Pop Text&quot;);\n",
        "      map.addLayer(marker_8)\n",
        "      \n",
        "      var marker_9 = L.marker([41.3614, -72.0900]);\n",
        "      marker_9.bindPopup(&quot;Pop Text&quot;);\n",
        "      map.addLayer(marker_9)\n",
        "      \n",
        "      var marker_10 = L.marker([41.2833, -72.9083]);\n",
        "      marker_10.bindPopup(&quot;Pop Text&quot;);\n",
        "      map.addLayer(marker_10)\n",
        "      \n",
        "      var marker_11 = L.marker([41.1733, -73.1817]);\n",
        "      marker_11.bindPopup(&quot;Pop Text&quot;);\n",
        "      map.addLayer(marker_11)\n",
        "      \n",
        "      var marker_12 = L.marker([41.0483, -71.9600]);\n",
        "      marker_12.bindPopup(&quot;Pop Text&quot;);\n",
        "      map.addLayer(marker_12)\n",
        "      \n",
        "      var marker_13 = L.marker([40.8103, -73.7649]);\n",
        "      marker_13.bindPopup(&quot;Pop Text&quot;);\n",
        "      map.addLayer(marker_13)\n",
        "      \n",
        "\n",
        "      \n",
        "      var latLngs = [ [40.67, -73.94],  [40.67, -69.94],  [42, -69.94],  [42, -73.94],  [40.67, -73.94], ];\n",
        "var line_1 = L.polyline(latLngs,{\n",
        "color: '#FF0000',\n",
        "weight: 5,\n",
        "\n",
        "});\n",
        "      map.addLayer(line_1);\n",
        "      \n",
        "\n",
        "      \n",
        "\n",
        "      \n",
        "\n",
        "   </script>\n",
        "\n",
        "</body>\" style=\"width: 100%; height: 500px; border: none\"></iframe>"
       ],
       "metadata": {},
       "output_type": "pyout",
       "prompt_number": 365,
       "text": [
        "<IPython.core.display.HTML at 0x1071b32d0>"
       ]
      }
     ],
     "prompt_number": 365
    },
    {
     "cell_type": "heading",
     "level": 3,
     "metadata": {},
     "source": [
      "Extreme Value Analysis:"
     ]
    },
    {
     "cell_type": "heading",
     "level": 4,
     "metadata": {},
     "source": [
      "First read in data (water levels from stations.json) * temp station yearly max data source"
     ]
    },
    {
     "cell_type": "code",
     "collapsed": false,
     "input": [
      "filename = 'stations.json'\n",
      "with open(filename) as data_file:    \n",
      "    data = json.load(data_file)\n",
      "    \n",
      "# Arbitrarily grab a station\n",
      "station = 'station-8449130'\n",
      "annual_max_levels = []\n",
      "for years, values in data[station].iteritems():\n",
      "    # Just grab the fields that contain data\n",
      "    try:\n",
      "        float(years)\n",
      "    except ValueError:\n",
      "        continue\n",
      "    annual_max_levels.append(values['max'])\n",
      "    #print years, values"
     ],
     "language": "python",
     "metadata": {},
     "outputs": []
    },
    {
     "cell_type": "code",
     "collapsed": false,
     "input": [
      "fig = plt.figure(figsize=(12,6))\n",
      "axes = fig.add_axes([0.1, 0.1, 0.8, 0.8]) # left, bottom, width, height (range 0 to 1)\n",
      "axes.plot(annual_max_levels)\n",
      "axes.set_title('Nantucket Annual Maximum Sea Level')\n",
      "axes.set_ylabel('water level (m)')\n",
      "axes.set_xlabel('num years')\n"
     ],
     "language": "python",
     "metadata": {},
     "outputs": []
    },
    {
     "cell_type": "heading",
     "level": 4,
     "metadata": {},
     "source": [
      "Fit data to GEV distribution"
     ]
    },
    {
     "cell_type": "code",
     "collapsed": false,
     "input": [
      "def sea_levels_gev_pdf(x):\n",
      "    return genextreme.pdf(x, xi, loc=mu, scale=sigma)"
     ],
     "language": "python",
     "metadata": {},
     "outputs": []
    },
    {
     "cell_type": "code",
     "collapsed": false,
     "input": [
      "mle = genextreme.fit(sorted(annual_max_levels), 0)\n",
      "mu = mle[1]\n",
      "sigma = mle[2]\n",
      "xi = mle[0]\n",
      "print \"The mean, sigma, and shape parameters are %s, %s, and %s, resp.\" % (mu, sigma, xi)"
     ],
     "language": "python",
     "metadata": {},
     "outputs": []
    },
    {
     "cell_type": "heading",
     "level": 4,
     "metadata": {},
     "source": [
      "Probability Density Plot"
     ]
    },
    {
     "cell_type": "code",
     "collapsed": false,
     "input": [
      "x = np.linspace(2, 7, num=100)\n",
      "y = [sea_levels_gev_pdf(z) for z in x]\n",
      "\n",
      "fig = plt.figure(figsize=(12,6))\n",
      "axes = fig.add_axes([0.1, 0.1, 0.8, 0.8])\n",
      "axes.set_title(\"Probability Density & Normalized Histogram\")\n",
      "axes.set_xlabel(\"Nantucket Annual Maximum Sea Level (m)\")\n",
      "axes.plot(x, y, color='Red')\n",
      "axes.hist(annual_max_levels, bins=arange(2,7,0.5), normed=1, color='Yellow')"
     ],
     "language": "python",
     "metadata": {},
     "outputs": []
    },
    {
     "cell_type": "heading",
     "level": 4,
     "metadata": {},
     "source": [
      "Return Value Plot"
     ]
    },
    {
     "cell_type": "code",
     "collapsed": false,
     "input": [
      "fig = plt.figure(figsize=(12,6))\n",
      "axes = fig.add_axes([0.1, 0.1, 0.8, 0.8])\n",
      "T=np.r_[1:500]\n",
      "sT = genextreme.isf(1./T, 0, mu, sigma)\n",
      "axes.semilogx(T,sT), hold\n",
      "N=np.r_[1:len(annual_max_levels)+1]; \n",
      "Nmax=max(N);\n",
      "axes.plot(Nmax/N, sorted(annual_max_levels)[::-1],'.')\n",
      "axes.set_title('Return values in the GEV distribution')\n",
      "axes.set_xlabel('Return period')\n",
      "axes.set_ylabel('Return value') \n",
      "axes.grid(True)"
     ],
     "language": "python",
     "metadata": {},
     "outputs": []
    },
    {
     "cell_type": "heading",
     "level": 4,
     "metadata": {},
     "source": [
      "Compute Confidence Intervals"
     ]
    },
    {
     "cell_type": "code",
     "collapsed": false,
     "input": [],
     "language": "python",
     "metadata": {},
     "outputs": []
    }
   ],
   "metadata": {}
  }
 ]
}