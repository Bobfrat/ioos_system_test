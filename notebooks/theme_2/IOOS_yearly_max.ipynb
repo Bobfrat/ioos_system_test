{
 "metadata": {
  "name": "IOOS_yearly_max"
 },
 "nbformat": 3,
 "nbformat_minor": 0,
 "worksheets": [
  {
   "cells": [
    {
     "cell_type": "code",
     "collapsed": false,
     "input": "import requests\nimport json\nfrom bs4 import * ",
     "language": "python",
     "metadata": {},
     "outputs": [],
     "prompt_number": 213
    },
    {
     "cell_type": "code",
     "collapsed": false,
     "input": "#get station list\nr = requests.get(\"http://opendap.co-ops.nos.noaa.gov/ioos-dif-sos/SOS?request=getCapabilities&service=SOS\")\nsoup = BeautifulSoup(r.text)",
     "language": "python",
     "metadata": {},
     "outputs": [],
     "prompt_number": 214
    },
    {
     "cell_type": "code",
     "collapsed": false,
     "input": "#grab the stations and their information\nstation_list = soup.find_all(\"observationoffering\")\nall_data_dict = dict()\nprint \"number of stations:\",len(station_list)\ncount_of_available = 0\nfor station in station_list:\n    station_name = station.attrs[\"gml:id\"]\n    #if its not a \"network\" option\n    if \"network\" not in station_name:\n        #check to see if it has water levels\n        obs_pro_list = station.findAll(\"observedproperty\")\n        for prop in obs_pro_list:\n            prop_name = prop.attrs[\"xlink:href\"]\n            if \"water_surface_height_above_reference_datum\" in prop_name:                \n                station_dict = dict()\n                #grab the name if not network\n                station_dict['station_name'] = station_name\n                station_dict['end_time'] = station.find(\"gml:endposition\").text\n                #grab the start date\n                station_dict['start_time'] = station.find(\"gml:beginposition\").text\n                station_dict['end_time'] = station.find(\"gml:endposition\").text        \n                #grab position\n                station_dict['lower_corner'] = station.find(\"gml:lowercorner\").text\n                station_dict['upper_corner'] = station.find(\"gml:uppercorner\").text\n                \n                all_data_dict[station_name] = station_dict        \n                #break out of loop as station is valid\n                count_of_available+=1\n                break\n            \n#print all_data_dict\nprint \"available for processing:\",count_of_available",
     "language": "python",
     "metadata": {},
     "outputs": [
      {
       "output_type": "stream",
       "stream": "stdout",
       "text": "number of stations: 1027\navailable for processing:"
      },
      {
       "output_type": "stream",
       "stream": "stdout",
       "text": " 289\n"
      }
     ],
     "prompt_number": 215
    },
    {
     "cell_type": "code",
     "collapsed": false,
     "input": "#check that it exists\nverify_data = False\nif verify_data:\n    for station in all_data_dict:\n        #data = all_data_dict[station] \n        station_id = station[8:]\n        #r = requests.get(\"http://tidesandcurrents.noaa.gov/inventory.html?id=\"+station_id)\n        #status checks that it is valid on the NOAA page\n        if \"No data inventory is available for this station\" in r.text:\n            all_data_dict[station][\"status\"] = False \n        else:\n            all_data_dict[station][\"status\"] = True \n        #print \"station:\",station_id,\" :status\",all_data_dict[station][\"status\"]\n        ",
     "language": "python",
     "metadata": {},
     "outputs": [],
     "prompt_number": 229
    },
    {
     "cell_type": "code",
     "collapsed": false,
     "input": "#get current year\nfrom datetime import date\ncurrent_year = date.today().year -1 # for a full year of data\nprint \"current_year:\",current_year",
     "language": "python",
     "metadata": {},
     "outputs": [
      {
       "output_type": "stream",
       "stream": "stdout",
       "text": "current_year: 2013\n"
      }
     ],
     "prompt_number": 225
    },
    {
     "cell_type": "code",
     "collapsed": false,
     "input": "def findMaxVal(data):\n    dates_array = []\n    vals_array = []\n    for x in data:\n        dates_array.append(str(x[\"t\"]))\n        vals_array.append(x[\"v\"])\n    \n    p = np.array(vals_array,dtype=np.float)\n    x = np.arange(len(p))\n    max_val = np.amax(p)\n    max_idx = np.argmax(p)\n    return (max_val,len(p),dates_array[max_idx])",
     "language": "python",
     "metadata": {},
     "outputs": [],
     "prompt_number": 240
    },
    {
     "cell_type": "markdown",
     "metadata": {},
     "source": "## Could be set to extract information for a number of stations\nuses co-ops site to extract yearly max"
    },
    {
     "cell_type": "code",
     "collapsed": false,
     "input": "valset = False\nfor station in all_data_dict:\n    station_id = station[8:]\n    data_start_year = all_data_dict[station][\"start_time\"][:4]\n    print \"station:\",station\n    for year_station in range(int(data_start_year),current_year+1):        \n        link = \"http://tidesandcurrents.noaa.gov/api/datagetter?product=hourly_height&application=NOS.COOPS.TAC.WL&\"\n        date1 = \"begin_date=\"+str(year_station)+\"0101\"\n        date2 = \"&end_date=\"+str(year_station)+\"1231\"\n        datum = \"&datum=MSL\"\n        station_request = \"&station=\"+station_id+\"&time_zone=GMT&units=english&format=json\"\n        http_request = link+date1+date2+datum+station_request\n        d_r = requests.get(http_request,timeout=10)\n        if \"Great Lake station\" in d_r.text:\n            #TODO fix great lakes\n            all_data_dict[station][\"isgl\"] = True\n            break\n        else:                                      \n            key_list =  d_r.json().keys()\n            if \"data\" in key_list:\n                data = d_r.json()['data']\n                max_value,num_samples,date_string = findMaxVal(data)\n                all_data_dict[station][str(year_station)] = {\"max\":max_value,\"num_samples\":num_samples,\"date_string\":date_string}\n                all_data_dict[station][\"isgl\"] = False                \n                print \"\\tyear:\",year_station\n   break             ",
     "language": "python",
     "metadata": {},
     "outputs": [
      {
       "output_type": "stream",
       "stream": "stdout",
       "text": "station: station-9044020\nstation:"
      },
      {
       "output_type": "stream",
       "stream": "stdout",
       "text": " station-9414523\n\tyear:"
      },
      {
       "output_type": "stream",
       "stream": "stdout",
       "text": " 1974\n\tyear:"
      },
      {
       "output_type": "stream",
       "stream": "stdout",
       "text": " 1975\n\tyear:"
      },
      {
       "output_type": "stream",
       "stream": "stdout",
       "text": " 1976\n\tyear:"
      },
      {
       "output_type": "stream",
       "stream": "stdout",
       "text": " 1983\n\tyear:"
      },
      {
       "output_type": "stream",
       "stream": "stdout",
       "text": " 1984\n\tyear:"
      },
      {
       "output_type": "stream",
       "stream": "stdout",
       "text": " 1997\n\tyear:"
      },
      {
       "output_type": "stream",
       "stream": "stdout",
       "text": " 1998\n\tyear:"
      },
      {
       "output_type": "stream",
       "stream": "stdout",
       "text": " 1999\n\tyear:"
      },
      {
       "output_type": "stream",
       "stream": "stdout",
       "text": " 2000\n\tyear:"
      },
      {
       "output_type": "stream",
       "stream": "stdout",
       "text": " 2001\n\tyear:"
      },
      {
       "output_type": "stream",
       "stream": "stdout",
       "text": " 2002\n\tyear:"
      },
      {
       "output_type": "stream",
       "stream": "stdout",
       "text": " 2003\n\tyear:"
      },
      {
       "output_type": "stream",
       "stream": "stdout",
       "text": " 2004\n\tyear:"
      },
      {
       "output_type": "stream",
       "stream": "stdout",
       "text": " 2005\n\tyear:"
      },
      {
       "output_type": "stream",
       "stream": "stdout",
       "text": " 2006\n\tyear:"
      },
      {
       "output_type": "stream",
       "stream": "stdout",
       "text": " 2007\n\tyear:"
      },
      {
       "output_type": "stream",
       "stream": "stdout",
       "text": " 2008\n\tyear:"
      },
      {
       "output_type": "stream",
       "stream": "stdout",
       "text": " 2009\n\tyear:"
      },
      {
       "output_type": "stream",
       "stream": "stdout",
       "text": " 2010\n\tyear:"
      },
      {
       "output_type": "stream",
       "stream": "stdout",
       "text": " 2011\n\tyear:"
      },
      {
       "output_type": "stream",
       "stream": "stdout",
       "text": " 2012\n\tyear:"
      },
      {
       "output_type": "stream",
       "stream": "stdout",
       "text": " 2013\nstation: station-9497645\n\tyear:"
      },
      {
       "output_type": "stream",
       "stream": "stdout",
       "text": " 1993\n\tyear:"
      },
      {
       "output_type": "stream",
       "stream": "stdout",
       "text": " 1994\n\tyear:"
      },
      {
       "output_type": "stream",
       "stream": "stdout",
       "text": " 1995\n\tyear:"
      },
      {
       "output_type": "stream",
       "stream": "stdout",
       "text": " 1996\n\tyear:"
      },
      {
       "output_type": "stream",
       "stream": "stdout",
       "text": " 1997\n\tyear:"
      },
      {
       "output_type": "stream",
       "stream": "stdout",
       "text": " 1998\n\tyear:"
      },
      {
       "output_type": "stream",
       "stream": "stdout",
       "text": " 1999\n\tyear:"
      },
      {
       "output_type": "stream",
       "stream": "stdout",
       "text": " 2000\n\tyear:"
      },
      {
       "output_type": "stream",
       "stream": "stdout",
       "text": " 2001\n\tyear:"
      },
      {
       "output_type": "stream",
       "stream": "stdout",
       "text": " 2002\n\tyear:"
      },
      {
       "output_type": "stream",
       "stream": "stdout",
       "text": " 2003\n\tyear:"
      },
      {
       "output_type": "stream",
       "stream": "stdout",
       "text": " 2004\n\tyear:"
      },
      {
       "output_type": "stream",
       "stream": "stdout",
       "text": " 2005\n\tyear:"
      },
      {
       "output_type": "stream",
       "stream": "stdout",
       "text": " 2006\n\tyear:"
      },
      {
       "output_type": "stream",
       "stream": "stdout",
       "text": " 2007\n\tyear:"
      },
      {
       "output_type": "stream",
       "stream": "stdout",
       "text": " 2008\n\tyear:"
      },
      {
       "output_type": "stream",
       "stream": "stdout",
       "text": " 2009\n\tyear:"
      },
      {
       "output_type": "stream",
       "stream": "stdout",
       "text": " 2010\n\tyear:"
      },
      {
       "output_type": "stream",
       "stream": "stdout",
       "text": " 2011\n\tyear:"
      },
      {
       "output_type": "stream",
       "stream": "stdout",
       "text": " 2012\n\tyear:"
      },
      {
       "output_type": "stream",
       "stream": "stdout",
       "text": " 2013\nstation: station-8724580\n\tyear:"
      },
      {
       "output_type": "stream",
       "stream": "stdout",
       "text": " 1913\n\tyear:"
      },
      {
       "output_type": "stream",
       "stream": "stdout",
       "text": " 1914\n\tyear:"
      },
      {
       "output_type": "stream",
       "stream": "stdout",
       "text": " 1915\n\tyear:"
      },
      {
       "output_type": "stream",
       "stream": "stdout",
       "text": " 1916\n\tyear:"
      },
      {
       "output_type": "stream",
       "stream": "stdout",
       "text": " 1917\n\tyear:"
      },
      {
       "output_type": "stream",
       "stream": "stdout",
       "text": " 1918\n\tyear:"
      },
      {
       "output_type": "stream",
       "stream": "stdout",
       "text": " 1919\n\tyear:"
      },
      {
       "output_type": "stream",
       "stream": "stdout",
       "text": " 1920\n\tyear:"
      },
      {
       "output_type": "stream",
       "stream": "stdout",
       "text": " 1921\n\tyear:"
      },
      {
       "output_type": "stream",
       "stream": "stdout",
       "text": " 1922\n\tyear:"
      },
      {
       "output_type": "stream",
       "stream": "stdout",
       "text": " 1923\n\tyear:"
      },
      {
       "output_type": "stream",
       "stream": "stdout",
       "text": " 1924\n\tyear:"
      },
      {
       "output_type": "stream",
       "stream": "stdout",
       "text": " 1925\n\tyear:"
      },
      {
       "output_type": "stream",
       "stream": "stdout",
       "text": " 1926\n\tyear:"
      },
      {
       "output_type": "stream",
       "stream": "stdout",
       "text": " 1927\n\tyear:"
      },
      {
       "output_type": "stream",
       "stream": "stdout",
       "text": " 1928\n\tyear:"
      },
      {
       "output_type": "stream",
       "stream": "stdout",
       "text": " 1929\n\tyear:"
      },
      {
       "output_type": "stream",
       "stream": "stdout",
       "text": " 1930\n\tyear:"
      },
      {
       "output_type": "stream",
       "stream": "stdout",
       "text": " 1931\n\tyear:"
      },
      {
       "output_type": "stream",
       "stream": "stdout",
       "text": " 1932\n\tyear:"
      },
      {
       "output_type": "stream",
       "stream": "stdout",
       "text": " 1933\n\tyear:"
      },
      {
       "output_type": "stream",
       "stream": "stdout",
       "text": " 1934\n\tyear:"
      },
      {
       "output_type": "stream",
       "stream": "stdout",
       "text": " 1935\n\tyear:"
      },
      {
       "output_type": "stream",
       "stream": "stdout",
       "text": " 1936\n\tyear:"
      },
      {
       "output_type": "stream",
       "stream": "stdout",
       "text": " 1937\n\tyear:"
      },
      {
       "output_type": "stream",
       "stream": "stdout",
       "text": " 1938\n\tyear:"
      },
      {
       "output_type": "stream",
       "stream": "stdout",
       "text": " 1939\n\tyear:"
      },
      {
       "output_type": "stream",
       "stream": "stdout",
       "text": " 1940\n\tyear:"
      },
      {
       "output_type": "stream",
       "stream": "stdout",
       "text": " 1941\n\tyear:"
      },
      {
       "output_type": "stream",
       "stream": "stdout",
       "text": " 1942\n\tyear:"
      },
      {
       "output_type": "stream",
       "stream": "stdout",
       "text": " 1943\n\tyear:"
      },
      {
       "output_type": "stream",
       "stream": "stdout",
       "text": " 1944\n\tyear:"
      },
      {
       "output_type": "stream",
       "stream": "stdout",
       "text": " 1945\n\tyear:"
      },
      {
       "output_type": "stream",
       "stream": "stdout",
       "text": " 1946\n\tyear:"
      },
      {
       "output_type": "stream",
       "stream": "stdout",
       "text": " 1947\n\tyear:"
      },
      {
       "output_type": "stream",
       "stream": "stdout",
       "text": " 1948\n\tyear:"
      },
      {
       "output_type": "stream",
       "stream": "stdout",
       "text": " 1949\n\tyear:"
      },
      {
       "output_type": "stream",
       "stream": "stdout",
       "text": " 1950\n\tyear:"
      },
      {
       "output_type": "stream",
       "stream": "stdout",
       "text": " 1951\n\tyear:"
      },
      {
       "output_type": "stream",
       "stream": "stdout",
       "text": " 1952\n\tyear:"
      },
      {
       "output_type": "stream",
       "stream": "stdout",
       "text": " 1953\n\tyear:"
      },
      {
       "output_type": "stream",
       "stream": "stdout",
       "text": " 1954\n\tyear:"
      },
      {
       "output_type": "stream",
       "stream": "stdout",
       "text": " 1955\n\tyear:"
      },
      {
       "output_type": "stream",
       "stream": "stdout",
       "text": " 1956\n\tyear:"
      },
      {
       "output_type": "stream",
       "stream": "stdout",
       "text": " 1957\n\tyear:"
      },
      {
       "output_type": "stream",
       "stream": "stdout",
       "text": " 1958\n\tyear:"
      },
      {
       "output_type": "stream",
       "stream": "stdout",
       "text": " 1959\n\tyear:"
      },
      {
       "output_type": "stream",
       "stream": "stdout",
       "text": " 1960\n\tyear:"
      },
      {
       "output_type": "stream",
       "stream": "stdout",
       "text": " 1961\n\tyear:"
      },
      {
       "output_type": "stream",
       "stream": "stdout",
       "text": " 1962\n\tyear:"
      },
      {
       "output_type": "stream",
       "stream": "stdout",
       "text": " 1963\n\tyear:"
      },
      {
       "output_type": "stream",
       "stream": "stdout",
       "text": " 1964\n\tyear:"
      },
      {
       "output_type": "stream",
       "stream": "stdout",
       "text": " 1965\n\tyear:"
      },
      {
       "output_type": "stream",
       "stream": "stdout",
       "text": " 1966\n\tyear:"
      },
      {
       "output_type": "stream",
       "stream": "stdout",
       "text": " 1967\n\tyear:"
      },
      {
       "output_type": "stream",
       "stream": "stdout",
       "text": " 1968\n\tyear:"
      },
      {
       "output_type": "stream",
       "stream": "stdout",
       "text": " 1969\n\tyear:"
      },
      {
       "output_type": "stream",
       "stream": "stdout",
       "text": " 1970\n\tyear:"
      },
      {
       "output_type": "stream",
       "stream": "stdout",
       "text": " 1971\n\tyear:"
      },
      {
       "output_type": "stream",
       "stream": "stdout",
       "text": " 1972\n\tyear:"
      },
      {
       "output_type": "stream",
       "stream": "stdout",
       "text": " 1973\n\tyear:"
      },
      {
       "output_type": "stream",
       "stream": "stdout",
       "text": " 1974\n\tyear:"
      },
      {
       "output_type": "stream",
       "stream": "stdout",
       "text": " 1975\n\tyear:"
      },
      {
       "output_type": "stream",
       "stream": "stdout",
       "text": " 1976\n\tyear:"
      },
      {
       "output_type": "stream",
       "stream": "stdout",
       "text": " 1977\n\tyear:"
      },
      {
       "output_type": "stream",
       "stream": "stdout",
       "text": " 1978\n\tyear:"
      },
      {
       "output_type": "stream",
       "stream": "stdout",
       "text": " 1979\n\tyear:"
      },
      {
       "output_type": "stream",
       "stream": "stdout",
       "text": " 1980\n\tyear:"
      },
      {
       "output_type": "stream",
       "stream": "stdout",
       "text": " 1981\n\tyear:"
      },
      {
       "output_type": "stream",
       "stream": "stdout",
       "text": " 1982\n\tyear:"
      },
      {
       "output_type": "stream",
       "stream": "stdout",
       "text": " 1983\n\tyear:"
      },
      {
       "output_type": "stream",
       "stream": "stdout",
       "text": " 1984\n\tyear:"
      },
      {
       "output_type": "stream",
       "stream": "stdout",
       "text": " 1985\n\tyear:"
      },
      {
       "output_type": "stream",
       "stream": "stdout",
       "text": " 1986\n\tyear:"
      },
      {
       "output_type": "stream",
       "stream": "stdout",
       "text": " 1987\n\tyear:"
      },
      {
       "output_type": "stream",
       "stream": "stdout",
       "text": " 1988\n\tyear:"
      },
      {
       "output_type": "stream",
       "stream": "stdout",
       "text": " 1989\n\tyear:"
      },
      {
       "output_type": "stream",
       "stream": "stdout",
       "text": " 1990\n\tyear:"
      },
      {
       "output_type": "stream",
       "stream": "stdout",
       "text": " 1991\n\tyear:"
      },
      {
       "output_type": "stream",
       "stream": "stdout",
       "text": " 1992\n\tyear:"
      },
      {
       "output_type": "stream",
       "stream": "stdout",
       "text": " 1993\n\tyear:"
      },
      {
       "output_type": "stream",
       "stream": "stdout",
       "text": " 1994\n\tyear:"
      },
      {
       "output_type": "stream",
       "stream": "stdout",
       "text": " 1995\n\tyear:"
      },
      {
       "output_type": "stream",
       "stream": "stdout",
       "text": " 1996\n\tyear:"
      },
      {
       "output_type": "stream",
       "stream": "stdout",
       "text": " 1997\n\tyear:"
      },
      {
       "output_type": "stream",
       "stream": "stdout",
       "text": " 1998\n\tyear:"
      },
      {
       "output_type": "stream",
       "stream": "stdout",
       "text": " 1999\n\tyear:"
      },
      {
       "output_type": "stream",
       "stream": "stdout",
       "text": " 2000\n\tyear:"
      },
      {
       "output_type": "stream",
       "stream": "stdout",
       "text": " 2001\n\tyear:"
      },
      {
       "output_type": "stream",
       "stream": "stdout",
       "text": " 2002\n\tyear:"
      },
      {
       "output_type": "stream",
       "stream": "stdout",
       "text": " 2003\n\tyear:"
      },
      {
       "output_type": "stream",
       "stream": "stdout",
       "text": " 2004\n\tyear:"
      },
      {
       "output_type": "stream",
       "stream": "stdout",
       "text": " 2005\n\tyear:"
      },
      {
       "output_type": "stream",
       "stream": "stdout",
       "text": " 2006\n\tyear:"
      },
      {
       "output_type": "stream",
       "stream": "stdout",
       "text": " 2007\n\tyear:"
      },
      {
       "output_type": "stream",
       "stream": "stdout",
       "text": " 2008\n\tyear:"
      },
      {
       "output_type": "stream",
       "stream": "stdout",
       "text": " 2009\n\tyear:"
      },
      {
       "output_type": "stream",
       "stream": "stdout",
       "text": " 2010\n\tyear:"
      },
      {
       "output_type": "stream",
       "stream": "stdout",
       "text": " 2011\n\tyear:"
      },
      {
       "output_type": "stream",
       "stream": "stdout",
       "text": " 2012\n\tyear:"
      },
      {
       "output_type": "stream",
       "stream": "stdout",
       "text": " 2013\nstation: station-8651370\n\tyear:"
      },
      {
       "output_type": "stream",
       "stream": "stdout",
       "text": " 1978\n\tyear:"
      },
      {
       "output_type": "stream",
       "stream": "stdout",
       "text": " 1979\n\tyear:"
      },
      {
       "output_type": "stream",
       "stream": "stdout",
       "text": " 1980\n\tyear:"
      },
      {
       "output_type": "stream",
       "stream": "stdout",
       "text": " 1981\n\tyear:"
      },
      {
       "output_type": "stream",
       "stream": "stdout",
       "text": " 1982\n\tyear:"
      },
      {
       "output_type": "stream",
       "stream": "stdout",
       "text": " 1983\n\tyear:"
      },
      {
       "output_type": "stream",
       "stream": "stdout",
       "text": " 1984\n\tyear:"
      },
      {
       "output_type": "stream",
       "stream": "stdout",
       "text": " 1985\n\tyear:"
      },
      {
       "output_type": "stream",
       "stream": "stdout",
       "text": " 1986\n\tyear:"
      },
      {
       "output_type": "stream",
       "stream": "stdout",
       "text": " 1987\n\tyear:"
      },
      {
       "output_type": "stream",
       "stream": "stdout",
       "text": " 1988\n\tyear:"
      },
      {
       "output_type": "stream",
       "stream": "stdout",
       "text": " 1989\n\tyear:"
      },
      {
       "output_type": "stream",
       "stream": "stdout",
       "text": " 1990\n\tyear:"
      },
      {
       "output_type": "stream",
       "stream": "stdout",
       "text": " 1991\n\tyear:"
      },
      {
       "output_type": "stream",
       "stream": "stdout",
       "text": " 1992\n\tyear:"
      },
      {
       "output_type": "stream",
       "stream": "stdout",
       "text": " 1993\n\tyear:"
      },
      {
       "output_type": "stream",
       "stream": "stdout",
       "text": " 1994\n\tyear:"
      },
      {
       "output_type": "stream",
       "stream": "stdout",
       "text": " 1995\n\tyear:"
      },
      {
       "output_type": "stream",
       "stream": "stdout",
       "text": " 1996\n\tyear:"
      },
      {
       "output_type": "stream",
       "stream": "stdout",
       "text": " 1997\n\tyear:"
      },
      {
       "output_type": "stream",
       "stream": "stdout",
       "text": " 1998\n\tyear:"
      },
      {
       "output_type": "stream",
       "stream": "stdout",
       "text": " 1999\n\tyear:"
      },
      {
       "output_type": "stream",
       "stream": "stdout",
       "text": " 2000\n\tyear:"
      },
      {
       "output_type": "stream",
       "stream": "stdout",
       "text": " 2001\n\tyear:"
      },
      {
       "output_type": "stream",
       "stream": "stdout",
       "text": " 2002\n\tyear:"
      },
      {
       "output_type": "stream",
       "stream": "stdout",
       "text": " 2003\n\tyear:"
      },
      {
       "output_type": "stream",
       "stream": "stdout",
       "text": " 2004\n\tyear:"
      },
      {
       "output_type": "stream",
       "stream": "stdout",
       "text": " 2005\n\tyear:"
      },
      {
       "output_type": "stream",
       "stream": "stdout",
       "text": " 2006\n\tyear:"
      },
      {
       "output_type": "stream",
       "stream": "stdout",
       "text": " 2007\n\tyear:"
      },
      {
       "output_type": "stream",
       "stream": "stdout",
       "text": " 2008\n\tyear:"
      },
      {
       "output_type": "stream",
       "stream": "stdout",
       "text": " 2009\n\tyear:"
      },
      {
       "output_type": "stream",
       "stream": "stdout",
       "text": " 2010\n\tyear:"
      },
      {
       "output_type": "stream",
       "stream": "stdout",
       "text": " 2011\n\tyear:"
      },
      {
       "output_type": "stream",
       "stream": "stdout",
       "text": " 2012\n\tyear:"
      },
      {
       "output_type": "stream",
       "stream": "stdout",
       "text": " 2013\nstation: station-9034052\nstation:"
      },
      {
       "output_type": "stream",
       "stream": "stdout",
       "text": " station-8539094\n\tyear:"
      },
      {
       "output_type": "stream",
       "stream": "stdout",
       "text": " 1984\n\tyear:"
      },
      {
       "output_type": "stream",
       "stream": "stdout",
       "text": " 2002\n\tyear:"
      },
      {
       "output_type": "stream",
       "stream": "stdout",
       "text": " 2003\n\tyear:"
      },
      {
       "output_type": "stream",
       "stream": "stdout",
       "text": " 2004\n\tyear:"
      },
      {
       "output_type": "stream",
       "stream": "stdout",
       "text": " 2005\n\tyear:"
      },
      {
       "output_type": "stream",
       "stream": "stdout",
       "text": " 2006\n\tyear:"
      },
      {
       "output_type": "stream",
       "stream": "stdout",
       "text": " 2007\n\tyear:"
      },
      {
       "output_type": "stream",
       "stream": "stdout",
       "text": " 2008\n\tyear:"
      },
      {
       "output_type": "stream",
       "stream": "stdout",
       "text": " 2009\n\tyear:"
      },
      {
       "output_type": "stream",
       "stream": "stdout",
       "text": " 2010\n\tyear:"
      },
      {
       "output_type": "stream",
       "stream": "stdout",
       "text": " 2011\n\tyear:"
      },
      {
       "output_type": "stream",
       "stream": "stdout",
       "text": " 2012\n\tyear:"
      },
      {
       "output_type": "stream",
       "stream": "stdout",
       "text": " 2013\nstation: station-9052000\nstation:"
      },
      {
       "output_type": "stream",
       "stream": "stdout",
       "text": " station-8570283\n\tyear:"
      },
      {
       "output_type": "stream",
       "stream": "stdout",
       "text": " 1997\n\tyear:"
      },
      {
       "output_type": "stream",
       "stream": "stdout",
       "text": " 1998\n\tyear:"
      },
      {
       "output_type": "stream",
       "stream": "stdout",
       "text": " 1999\n\tyear:"
      },
      {
       "output_type": "stream",
       "stream": "stdout",
       "text": " 2002\n\tyear:"
      },
      {
       "output_type": "stream",
       "stream": "stdout",
       "text": " 2003\n\tyear:"
      },
      {
       "output_type": "stream",
       "stream": "stdout",
       "text": " 2004\n\tyear:"
      },
      {
       "output_type": "stream",
       "stream": "stdout",
       "text": " 2005\n\tyear:"
      },
      {
       "output_type": "stream",
       "stream": "stdout",
       "text": " 2006\n\tyear:"
      },
      {
       "output_type": "stream",
       "stream": "stdout",
       "text": " 2007\n\tyear:"
      },
      {
       "output_type": "stream",
       "stream": "stdout",
       "text": " 2008\n\tyear:"
      },
      {
       "output_type": "stream",
       "stream": "stdout",
       "text": " 2009\n\tyear:"
      },
      {
       "output_type": "stream",
       "stream": "stdout",
       "text": " 2010\n\tyear:"
      },
      {
       "output_type": "stream",
       "stream": "stdout",
       "text": " 2011\n\tyear:"
      },
      {
       "output_type": "stream",
       "stream": "stdout",
       "text": " 2012\n\tyear:"
      },
      {
       "output_type": "stream",
       "stream": "stdout",
       "text": " 2013\nstation: station-9014080\nstation:"
      },
      {
       "output_type": "stream",
       "stream": "stdout",
       "text": " station-8773146\n\tyear:"
      },
      {
       "output_type": "stream",
       "stream": "stdout",
       "text": " 2012\nstation:"
      },
      {
       "output_type": "stream",
       "stream": "stdout",
       "text": " station-8760922\n\tyear:"
      },
      {
       "output_type": "stream",
       "stream": "stdout",
       "text": " 2004\n\tyear:"
      },
      {
       "output_type": "stream",
       "stream": "stdout",
       "text": " 2005\n\tyear:"
      },
      {
       "output_type": "stream",
       "stream": "stdout",
       "text": " 2006\n\tyear:"
      },
      {
       "output_type": "stream",
       "stream": "stdout",
       "text": " 2007\n\tyear:"
      },
      {
       "output_type": "stream",
       "stream": "stdout",
       "text": " 2008\n\tyear:"
      },
      {
       "output_type": "stream",
       "stream": "stdout",
       "text": " 2009\n\tyear:"
      },
      {
       "output_type": "stream",
       "stream": "stdout",
       "text": " 2010\n\tyear:"
      },
      {
       "output_type": "stream",
       "stream": "stdout",
       "text": " 2011\n\tyear:"
      },
      {
       "output_type": "stream",
       "stream": "stdout",
       "text": " 2012\n\tyear:"
      },
      {
       "output_type": "stream",
       "stream": "stdout",
       "text": " 2013\nstation: station-8771341\n\tyear:"
      },
      {
       "output_type": "stream",
       "stream": "stdout",
       "text": " 2001\n\tyear:"
      },
      {
       "output_type": "stream",
       "stream": "stdout",
       "text": " 2002\n\tyear:"
      },
      {
       "output_type": "stream",
       "stream": "stdout",
       "text": " 2003\n\tyear:"
      },
      {
       "output_type": "stream",
       "stream": "stdout",
       "text": " 2004\n\tyear:"
      },
      {
       "output_type": "stream",
       "stream": "stdout",
       "text": " 2005\n\tyear:"
      },
      {
       "output_type": "stream",
       "stream": "stdout",
       "text": " 2006\n\tyear:"
      },
      {
       "output_type": "stream",
       "stream": "stdout",
       "text": " 2007\n\tyear:"
      },
      {
       "output_type": "stream",
       "stream": "stdout",
       "text": " 2008\n\tyear:"
      },
      {
       "output_type": "stream",
       "stream": "stdout",
       "text": " 2011\n\tyear:"
      },
      {
       "output_type": "stream",
       "stream": "stdout",
       "text": " 2012\n\tyear:"
      },
      {
       "output_type": "stream",
       "stream": "stdout",
       "text": " 2013\nstation: station-8638610\n\tyear:"
      },
      {
       "output_type": "stream",
       "stream": "stdout",
       "text": " 1927\n\tyear:"
      },
      {
       "output_type": "stream",
       "stream": "stdout",
       "text": " 1928\n\tyear:"
      },
      {
       "output_type": "stream",
       "stream": "stdout",
       "text": " 1929\n\tyear:"
      },
      {
       "output_type": "stream",
       "stream": "stdout",
       "text": " 1930\n\tyear:"
      },
      {
       "output_type": "stream",
       "stream": "stdout",
       "text": " 1931\n\tyear:"
      },
      {
       "output_type": "stream",
       "stream": "stdout",
       "text": " 1932\n\tyear:"
      },
      {
       "output_type": "stream",
       "stream": "stdout",
       "text": " 1933\n\tyear:"
      },
      {
       "output_type": "stream",
       "stream": "stdout",
       "text": " 1934\n\tyear:"
      },
      {
       "output_type": "stream",
       "stream": "stdout",
       "text": " 1935\n\tyear:"
      },
      {
       "output_type": "stream",
       "stream": "stdout",
       "text": " 1936\n\tyear:"
      },
      {
       "output_type": "stream",
       "stream": "stdout",
       "text": " 1937\n\tyear:"
      },
      {
       "output_type": "stream",
       "stream": "stdout",
       "text": " 1938\n\tyear:"
      },
      {
       "output_type": "stream",
       "stream": "stdout",
       "text": " 1939\n\tyear:"
      },
      {
       "output_type": "stream",
       "stream": "stdout",
       "text": " 1940\n\tyear:"
      },
      {
       "output_type": "stream",
       "stream": "stdout",
       "text": " 1941\n\tyear:"
      },
      {
       "output_type": "stream",
       "stream": "stdout",
       "text": " 1942\n\tyear:"
      },
      {
       "output_type": "stream",
       "stream": "stdout",
       "text": " 1943\n\tyear:"
      },
      {
       "output_type": "stream",
       "stream": "stdout",
       "text": " 1944\n\tyear:"
      },
      {
       "output_type": "stream",
       "stream": "stdout",
       "text": " 1945\n\tyear:"
      },
      {
       "output_type": "stream",
       "stream": "stdout",
       "text": " 1946\n\tyear:"
      },
      {
       "output_type": "stream",
       "stream": "stdout",
       "text": " 1947\n\tyear:"
      },
      {
       "output_type": "stream",
       "stream": "stdout",
       "text": " 1948\n\tyear:"
      },
      {
       "output_type": "stream",
       "stream": "stdout",
       "text": " 1949\n\tyear:"
      },
      {
       "output_type": "stream",
       "stream": "stdout",
       "text": " 1950\n\tyear:"
      },
      {
       "output_type": "stream",
       "stream": "stdout",
       "text": " 1951\n\tyear:"
      },
      {
       "output_type": "stream",
       "stream": "stdout",
       "text": " 1952\n\tyear:"
      },
      {
       "output_type": "stream",
       "stream": "stdout",
       "text": " 1953\n\tyear:"
      },
      {
       "output_type": "stream",
       "stream": "stdout",
       "text": " 1954\n\tyear:"
      },
      {
       "output_type": "stream",
       "stream": "stdout",
       "text": " 1955\n\tyear:"
      },
      {
       "output_type": "stream",
       "stream": "stdout",
       "text": " 1956\n\tyear:"
      },
      {
       "output_type": "stream",
       "stream": "stdout",
       "text": " 1957\n\tyear:"
      },
      {
       "output_type": "stream",
       "stream": "stdout",
       "text": " 1958\n\tyear:"
      },
      {
       "output_type": "stream",
       "stream": "stdout",
       "text": " 1959\n\tyear:"
      },
      {
       "output_type": "stream",
       "stream": "stdout",
       "text": " 1960\n\tyear:"
      },
      {
       "output_type": "stream",
       "stream": "stdout",
       "text": " 1961\n\tyear:"
      },
      {
       "output_type": "stream",
       "stream": "stdout",
       "text": " 1962\n\tyear:"
      },
      {
       "output_type": "stream",
       "stream": "stdout",
       "text": " 1963\n\tyear:"
      },
      {
       "output_type": "stream",
       "stream": "stdout",
       "text": " 1964\n\tyear:"
      },
      {
       "output_type": "stream",
       "stream": "stdout",
       "text": " 1965\n\tyear:"
      },
      {
       "output_type": "stream",
       "stream": "stdout",
       "text": " 1966\n\tyear:"
      },
      {
       "output_type": "stream",
       "stream": "stdout",
       "text": " 1967\n\tyear:"
      },
      {
       "output_type": "stream",
       "stream": "stdout",
       "text": " 1968\n\tyear:"
      },
      {
       "output_type": "stream",
       "stream": "stdout",
       "text": " 1969\n\tyear:"
      },
      {
       "output_type": "stream",
       "stream": "stdout",
       "text": " 1970\n\tyear:"
      },
      {
       "output_type": "stream",
       "stream": "stdout",
       "text": " 1971\n\tyear:"
      },
      {
       "output_type": "stream",
       "stream": "stdout",
       "text": " 1972\n\tyear:"
      },
      {
       "output_type": "stream",
       "stream": "stdout",
       "text": " 1973\n\tyear:"
      },
      {
       "output_type": "stream",
       "stream": "stdout",
       "text": " 1974\n\tyear:"
      },
      {
       "output_type": "stream",
       "stream": "stdout",
       "text": " 1975\n\tyear:"
      },
      {
       "output_type": "stream",
       "stream": "stdout",
       "text": " 1976\n\tyear:"
      },
      {
       "output_type": "stream",
       "stream": "stdout",
       "text": " 1977\n\tyear:"
      },
      {
       "output_type": "stream",
       "stream": "stdout",
       "text": " 1978\n\tyear:"
      },
      {
       "output_type": "stream",
       "stream": "stdout",
       "text": " 1979\n\tyear:"
      },
      {
       "output_type": "stream",
       "stream": "stdout",
       "text": " 1980\n\tyear:"
      },
      {
       "output_type": "stream",
       "stream": "stdout",
       "text": " 1981\n\tyear:"
      },
      {
       "output_type": "stream",
       "stream": "stdout",
       "text": " 1982\n\tyear:"
      },
      {
       "output_type": "stream",
       "stream": "stdout",
       "text": " 1983\n\tyear:"
      },
      {
       "output_type": "stream",
       "stream": "stdout",
       "text": " 1984\n\tyear:"
      },
      {
       "output_type": "stream",
       "stream": "stdout",
       "text": " 1985\n\tyear:"
      },
      {
       "output_type": "stream",
       "stream": "stdout",
       "text": " 1986\n\tyear:"
      },
      {
       "output_type": "stream",
       "stream": "stdout",
       "text": " 1987\n\tyear:"
      },
      {
       "output_type": "stream",
       "stream": "stdout",
       "text": " 1988\n\tyear:"
      },
      {
       "output_type": "stream",
       "stream": "stdout",
       "text": " 1989\n\tyear:"
      },
      {
       "output_type": "stream",
       "stream": "stdout",
       "text": " 1990\n\tyear:"
      },
      {
       "output_type": "stream",
       "stream": "stdout",
       "text": " 1991\n\tyear:"
      },
      {
       "output_type": "stream",
       "stream": "stdout",
       "text": " 1992\n\tyear:"
      },
      {
       "output_type": "stream",
       "stream": "stdout",
       "text": " 1993\n\tyear:"
      },
      {
       "output_type": "stream",
       "stream": "stdout",
       "text": " 1994\n\tyear:"
      },
      {
       "output_type": "stream",
       "stream": "stdout",
       "text": " 1995\n\tyear:"
      },
      {
       "output_type": "stream",
       "stream": "stdout",
       "text": " 1996\n\tyear:"
      },
      {
       "output_type": "stream",
       "stream": "stdout",
       "text": " 1997\n\tyear:"
      },
      {
       "output_type": "stream",
       "stream": "stdout",
       "text": " 1998\n\tyear:"
      },
      {
       "output_type": "stream",
       "stream": "stdout",
       "text": " 1999\n\tyear:"
      },
      {
       "output_type": "stream",
       "stream": "stdout",
       "text": " 2000\n\tyear:"
      },
      {
       "output_type": "stream",
       "stream": "stdout",
       "text": " 2001\n\tyear:"
      },
      {
       "output_type": "stream",
       "stream": "stdout",
       "text": " 2002\n\tyear:"
      },
      {
       "output_type": "stream",
       "stream": "stdout",
       "text": " 2003\n\tyear:"
      },
      {
       "output_type": "stream",
       "stream": "stdout",
       "text": " 2004\n\tyear:"
      },
      {
       "output_type": "stream",
       "stream": "stdout",
       "text": " 2005\n\tyear:"
      },
      {
       "output_type": "stream",
       "stream": "stdout",
       "text": " 2006\n\tyear:"
      },
      {
       "output_type": "stream",
       "stream": "stdout",
       "text": " 2007\n\tyear:"
      },
      {
       "output_type": "stream",
       "stream": "stdout",
       "text": " 2008\n\tyear:"
      },
      {
       "output_type": "stream",
       "stream": "stdout",
       "text": " 2009\n\tyear:"
      },
      {
       "output_type": "stream",
       "stream": "stdout",
       "text": " 2010\n\tyear:"
      },
      {
       "output_type": "stream",
       "stream": "stdout",
       "text": " 2011\n\tyear:"
      },
      {
       "output_type": "stream",
       "stream": "stdout",
       "text": " 2012\n\tyear:"
      },
      {
       "output_type": "stream",
       "stream": "stdout",
       "text": " 2013\nstation: station-8631044\n\tyear:"
      },
      {
       "output_type": "stream",
       "stream": "stdout",
       "text": " 1996\n\tyear:"
      },
      {
       "output_type": "stream",
       "stream": "stdout",
       "text": " 1997\n\tyear:"
      },
      {
       "output_type": "stream",
       "stream": "stdout",
       "text": " 1998\n\tyear:"
      },
      {
       "output_type": "stream",
       "stream": "stdout",
       "text": " 1999\n\tyear:"
      },
      {
       "output_type": "stream",
       "stream": "stdout",
       "text": " 2000\n\tyear:"
      },
      {
       "output_type": "stream",
       "stream": "stdout",
       "text": " 2005\n\tyear:"
      },
      {
       "output_type": "stream",
       "stream": "stdout",
       "text": " 2009\n\tyear:"
      },
      {
       "output_type": "stream",
       "stream": "stdout",
       "text": " 2010\n\tyear:"
      },
      {
       "output_type": "stream",
       "stream": "stdout",
       "text": " 2011\n\tyear:"
      },
      {
       "output_type": "stream",
       "stream": "stdout",
       "text": " 2012\n\tyear:"
      },
      {
       "output_type": "stream",
       "stream": "stdout",
       "text": " 2013\nstation: station-8449130\n\tyear:"
      },
      {
       "output_type": "stream",
       "stream": "stdout",
       "text": " 1965\n\tyear:"
      },
      {
       "output_type": "stream",
       "stream": "stdout",
       "text": " 1966\n\tyear:"
      },
      {
       "output_type": "stream",
       "stream": "stdout",
       "text": " 1967\n\tyear:"
      },
      {
       "output_type": "stream",
       "stream": "stdout",
       "text": " 1968\n\tyear:"
      },
      {
       "output_type": "stream",
       "stream": "stdout",
       "text": " 1969\n\tyear:"
      },
      {
       "output_type": "stream",
       "stream": "stdout",
       "text": " 1970\n\tyear:"
      },
      {
       "output_type": "stream",
       "stream": "stdout",
       "text": " 1971\n\tyear:"
      },
      {
       "output_type": "stream",
       "stream": "stdout",
       "text": " 1972\n\tyear:"
      },
      {
       "output_type": "stream",
       "stream": "stdout",
       "text": " 1973\n\tyear:"
      },
      {
       "output_type": "stream",
       "stream": "stdout",
       "text": " 1974\n\tyear:"
      },
      {
       "output_type": "stream",
       "stream": "stdout",
       "text": " 1975\n\tyear:"
      },
      {
       "output_type": "stream",
       "stream": "stdout",
       "text": " 1976\n\tyear:"
      },
      {
       "output_type": "stream",
       "stream": "stdout",
       "text": " 1977\n\tyear:"
      },
      {
       "output_type": "stream",
       "stream": "stdout",
       "text": " 1978\n\tyear:"
      },
      {
       "output_type": "stream",
       "stream": "stdout",
       "text": " 1979\n\tyear:"
      },
      {
       "output_type": "stream",
       "stream": "stdout",
       "text": " 1980\n\tyear:"
      },
      {
       "output_type": "stream",
       "stream": "stdout",
       "text": " 1981\n\tyear:"
      },
      {
       "output_type": "stream",
       "stream": "stdout",
       "text": " 1982\n\tyear:"
      },
      {
       "output_type": "stream",
       "stream": "stdout",
       "text": " 1983\n\tyear:"
      },
      {
       "output_type": "stream",
       "stream": "stdout",
       "text": " 1984\n\tyear:"
      },
      {
       "output_type": "stream",
       "stream": "stdout",
       "text": " 1985\n\tyear:"
      },
      {
       "output_type": "stream",
       "stream": "stdout",
       "text": " 1986\n\tyear:"
      },
      {
       "output_type": "stream",
       "stream": "stdout",
       "text": " 1987\n\tyear:"
      },
      {
       "output_type": "stream",
       "stream": "stdout",
       "text": " 1988\n\tyear:"
      },
      {
       "output_type": "stream",
       "stream": "stdout",
       "text": " 1989\n\tyear:"
      },
      {
       "output_type": "stream",
       "stream": "stdout",
       "text": " 1990\n\tyear:"
      },
      {
       "output_type": "stream",
       "stream": "stdout",
       "text": " 1991\n\tyear:"
      },
      {
       "output_type": "stream",
       "stream": "stdout",
       "text": " 1992\n\tyear:"
      },
      {
       "output_type": "stream",
       "stream": "stdout",
       "text": " 1993\n\tyear:"
      },
      {
       "output_type": "stream",
       "stream": "stdout",
       "text": " 1994\n\tyear:"
      },
      {
       "output_type": "stream",
       "stream": "stdout",
       "text": " 1995\n\tyear:"
      },
      {
       "output_type": "stream",
       "stream": "stdout",
       "text": " 1996\n\tyear:"
      },
      {
       "output_type": "stream",
       "stream": "stdout",
       "text": " 1997\n\tyear:"
      },
      {
       "output_type": "stream",
       "stream": "stdout",
       "text": " 1998\n\tyear:"
      },
      {
       "output_type": "stream",
       "stream": "stdout",
       "text": " 1999\n\tyear:"
      },
      {
       "output_type": "stream",
       "stream": "stdout",
       "text": " 2000\n\tyear:"
      },
      {
       "output_type": "stream",
       "stream": "stdout",
       "text": " 2001\n\tyear:"
      },
      {
       "output_type": "stream",
       "stream": "stdout",
       "text": " 2002\n\tyear:"
      },
      {
       "output_type": "stream",
       "stream": "stdout",
       "text": " 2003\n\tyear:"
      },
      {
       "output_type": "stream",
       "stream": "stdout",
       "text": " 2004\n\tyear:"
      },
      {
       "output_type": "stream",
       "stream": "stdout",
       "text": " 2005\n\tyear:"
      },
      {
       "output_type": "stream",
       "stream": "stdout",
       "text": " 2006\n\tyear:"
      },
      {
       "output_type": "stream",
       "stream": "stdout",
       "text": " 2007\n\tyear:"
      },
      {
       "output_type": "stream",
       "stream": "stdout",
       "text": " 2008\n\tyear:"
      },
      {
       "output_type": "stream",
       "stream": "stdout",
       "text": " 2009\n\tyear:"
      },
      {
       "output_type": "stream",
       "stream": "stdout",
       "text": " 2010\n\tyear:"
      },
      {
       "output_type": "stream",
       "stream": "stdout",
       "text": " 2011\n\tyear:"
      },
      {
       "output_type": "stream",
       "stream": "stdout",
       "text": " 2012\n\tyear:"
      },
      {
       "output_type": "stream",
       "stream": "stdout",
       "text": " 2013\nstation: station-9076027\nstation:"
      },
      {
       "output_type": "stream",
       "stream": "stdout",
       "text": " station-9076024\nstation: station-9099004\nstation:"
      },
      {
       "output_type": "stream",
       "stream": "stdout",
       "text": " station-8729108\n\tyear:"
      },
      {
       "output_type": "stream",
       "stream": "stdout",
       "text": " 1994\n\tyear:"
      },
      {
       "output_type": "stream",
       "stream": "stdout",
       "text": " 1995\n\tyear:"
      },
      {
       "output_type": "stream",
       "stream": "stdout",
       "text": " 1996\n\tyear:"
      },
      {
       "output_type": "stream",
       "stream": "stdout",
       "text": " 1997\n\tyear:"
      },
      {
       "output_type": "stream",
       "stream": "stdout",
       "text": " 1998\n\tyear:"
      },
      {
       "output_type": "stream",
       "stream": "stdout",
       "text": " 1999\n\tyear:"
      },
      {
       "output_type": "stream",
       "stream": "stdout",
       "text": " 2000\n\tyear:"
      },
      {
       "output_type": "stream",
       "stream": "stdout",
       "text": " 2001\n\tyear:"
      },
      {
       "output_type": "stream",
       "stream": "stdout",
       "text": " 2002\n\tyear:"
      },
      {
       "output_type": "stream",
       "stream": "stdout",
       "text": " 2003\n\tyear:"
      },
      {
       "output_type": "stream",
       "stream": "stdout",
       "text": " 2004\n\tyear:"
      },
      {
       "output_type": "stream",
       "stream": "stdout",
       "text": " 2005\n\tyear:"
      },
      {
       "output_type": "stream",
       "stream": "stdout",
       "text": " 2006\n\tyear:"
      },
      {
       "output_type": "stream",
       "stream": "stdout",
       "text": " 2007\n\tyear:"
      },
      {
       "output_type": "stream",
       "stream": "stdout",
       "text": " 2008\n\tyear:"
      },
      {
       "output_type": "stream",
       "stream": "stdout",
       "text": " 2009\n\tyear:"
      },
      {
       "output_type": "stream",
       "stream": "stdout",
       "text": " 2010\n\tyear:"
      },
      {
       "output_type": "stream",
       "stream": "stdout",
       "text": " 2011\n\tyear:"
      },
      {
       "output_type": "stream",
       "stream": "stdout",
       "text": " 2012\n\tyear:"
      },
      {
       "output_type": "stream",
       "stream": "stdout",
       "text": " 2013\nstation: station-8545240\n\tyear:"
      },
      {
       "output_type": "stream",
       "stream": "stdout",
       "text": " 1989\n\tyear:"
      },
      {
       "output_type": "stream",
       "stream": "stdout",
       "text": " 1990\n\tyear:"
      },
      {
       "output_type": "stream",
       "stream": "stdout",
       "text": " 1991\n\tyear:"
      },
      {
       "output_type": "stream",
       "stream": "stdout",
       "text": " 1992\n\tyear:"
      },
      {
       "output_type": "stream",
       "stream": "stdout",
       "text": " 1993\n\tyear:"
      },
      {
       "output_type": "stream",
       "stream": "stdout",
       "text": " 1994\n\tyear:"
      },
      {
       "output_type": "stream",
       "stream": "stdout",
       "text": " 1996\n\tyear:"
      },
      {
       "output_type": "stream",
       "stream": "stdout",
       "text": " 1997\n\tyear:"
      },
      {
       "output_type": "stream",
       "stream": "stdout",
       "text": " 1998\n\tyear:"
      },
      {
       "output_type": "stream",
       "stream": "stdout",
       "text": " 1999\n\tyear:"
      },
      {
       "output_type": "stream",
       "stream": "stdout",
       "text": " 2000\n\tyear:"
      },
      {
       "output_type": "stream",
       "stream": "stdout",
       "text": " 2001\n\tyear:"
      },
      {
       "output_type": "stream",
       "stream": "stdout",
       "text": " 2002\n\tyear:"
      },
      {
       "output_type": "stream",
       "stream": "stdout",
       "text": " 2003\n\tyear:"
      },
      {
       "output_type": "stream",
       "stream": "stdout",
       "text": " 2004\n\tyear:"
      },
      {
       "output_type": "stream",
       "stream": "stdout",
       "text": " 2005\n\tyear:"
      },
      {
       "output_type": "stream",
       "stream": "stdout",
       "text": " 2006\n\tyear:"
      },
      {
       "output_type": "stream",
       "stream": "stdout",
       "text": " 2007\n\tyear:"
      },
      {
       "output_type": "stream",
       "stream": "stdout",
       "text": " 2008\n\tyear:"
      },
      {
       "output_type": "stream",
       "stream": "stdout",
       "text": " 2009\n\tyear:"
      },
      {
       "output_type": "stream",
       "stream": "stdout",
       "text": " 2010\n\tyear:"
      },
      {
       "output_type": "stream",
       "stream": "stdout",
       "text": " 2011\n\tyear:"
      },
      {
       "output_type": "stream",
       "stream": "stdout",
       "text": " 2012\n\tyear:"
      },
      {
       "output_type": "stream",
       "stream": "stdout",
       "text": " 2013\nstation: station-9410660\n\tyear:"
      },
      {
       "output_type": "stream",
       "stream": "stdout",
       "text": " 1923\n\tyear:"
      },
      {
       "output_type": "stream",
       "stream": "stdout",
       "text": " 1924\n\tyear:"
      },
      {
       "output_type": "stream",
       "stream": "stdout",
       "text": " 1925\n\tyear:"
      },
      {
       "output_type": "stream",
       "stream": "stdout",
       "text": " 1926\n\tyear:"
      },
      {
       "output_type": "stream",
       "stream": "stdout",
       "text": " 1927\n\tyear:"
      },
      {
       "output_type": "stream",
       "stream": "stdout",
       "text": " 1928\n\tyear:"
      },
      {
       "output_type": "stream",
       "stream": "stdout",
       "text": " 1929\n\tyear:"
      },
      {
       "output_type": "stream",
       "stream": "stdout",
       "text": " 1930\n\tyear:"
      },
      {
       "output_type": "stream",
       "stream": "stdout",
       "text": " 1931\n\tyear:"
      },
      {
       "output_type": "stream",
       "stream": "stdout",
       "text": " 1932\n\tyear:"
      },
      {
       "output_type": "stream",
       "stream": "stdout",
       "text": " 1933\n\tyear:"
      },
      {
       "output_type": "stream",
       "stream": "stdout",
       "text": " 1934\n\tyear:"
      },
      {
       "output_type": "stream",
       "stream": "stdout",
       "text": " 1935\n\tyear:"
      },
      {
       "output_type": "stream",
       "stream": "stdout",
       "text": " 1936\n\tyear:"
      },
      {
       "output_type": "stream",
       "stream": "stdout",
       "text": " 1937\n\tyear:"
      },
      {
       "output_type": "stream",
       "stream": "stdout",
       "text": " 1938\n\tyear:"
      },
      {
       "output_type": "stream",
       "stream": "stdout",
       "text": " 1939\n\tyear:"
      },
      {
       "output_type": "stream",
       "stream": "stdout",
       "text": " 1940\n\tyear:"
      },
      {
       "output_type": "stream",
       "stream": "stdout",
       "text": " 1941\n\tyear:"
      },
      {
       "output_type": "stream",
       "stream": "stdout",
       "text": " 1942\n\tyear:"
      },
      {
       "output_type": "stream",
       "stream": "stdout",
       "text": " 1943\n\tyear:"
      },
      {
       "output_type": "stream",
       "stream": "stdout",
       "text": " 1944\n\tyear:"
      },
      {
       "output_type": "stream",
       "stream": "stdout",
       "text": " 1945\n\tyear:"
      },
      {
       "output_type": "stream",
       "stream": "stdout",
       "text": " 1946\n\tyear:"
      },
      {
       "output_type": "stream",
       "stream": "stdout",
       "text": " 1947\n\tyear:"
      },
      {
       "output_type": "stream",
       "stream": "stdout",
       "text": " 1948\n\tyear:"
      },
      {
       "output_type": "stream",
       "stream": "stdout",
       "text": " 1949\n\tyear:"
      },
      {
       "output_type": "stream",
       "stream": "stdout",
       "text": " 1950\n\tyear:"
      },
      {
       "output_type": "stream",
       "stream": "stdout",
       "text": " 1951\n\tyear:"
      },
      {
       "output_type": "stream",
       "stream": "stdout",
       "text": " 1952\n\tyear:"
      },
      {
       "output_type": "stream",
       "stream": "stdout",
       "text": " 1953\n\tyear:"
      },
      {
       "output_type": "stream",
       "stream": "stdout",
       "text": " 1954\n\tyear:"
      },
      {
       "output_type": "stream",
       "stream": "stdout",
       "text": " 1955\n\tyear:"
      },
      {
       "output_type": "stream",
       "stream": "stdout",
       "text": " 1956\n\tyear:"
      },
      {
       "output_type": "stream",
       "stream": "stdout",
       "text": " 1957\n\tyear:"
      },
      {
       "output_type": "stream",
       "stream": "stdout",
       "text": " 1958\n\tyear:"
      },
      {
       "output_type": "stream",
       "stream": "stdout",
       "text": " 1959\n\tyear:"
      },
      {
       "output_type": "stream",
       "stream": "stdout",
       "text": " 1960\n\tyear:"
      },
      {
       "output_type": "stream",
       "stream": "stdout",
       "text": " 1961\n\tyear:"
      },
      {
       "output_type": "stream",
       "stream": "stdout",
       "text": " 1962\n\tyear:"
      },
      {
       "output_type": "stream",
       "stream": "stdout",
       "text": " 1963\n\tyear:"
      },
      {
       "output_type": "stream",
       "stream": "stdout",
       "text": " 1964\n\tyear:"
      },
      {
       "output_type": "stream",
       "stream": "stdout",
       "text": " 1965\n\tyear:"
      },
      {
       "output_type": "stream",
       "stream": "stdout",
       "text": " 1966\n\tyear:"
      },
      {
       "output_type": "stream",
       "stream": "stdout",
       "text": " 1967\n\tyear:"
      },
      {
       "output_type": "stream",
       "stream": "stdout",
       "text": " 1968\n\tyear:"
      },
      {
       "output_type": "stream",
       "stream": "stdout",
       "text": " 1969\n\tyear:"
      },
      {
       "output_type": "stream",
       "stream": "stdout",
       "text": " 1970\n\tyear:"
      },
      {
       "output_type": "stream",
       "stream": "stdout",
       "text": " 1971\n\tyear:"
      },
      {
       "output_type": "stream",
       "stream": "stdout",
       "text": " 1972\n\tyear:"
      },
      {
       "output_type": "stream",
       "stream": "stdout",
       "text": " 1973\n\tyear:"
      },
      {
       "output_type": "stream",
       "stream": "stdout",
       "text": " 1974\n\tyear:"
      },
      {
       "output_type": "stream",
       "stream": "stdout",
       "text": " 1975\n\tyear:"
      },
      {
       "output_type": "stream",
       "stream": "stdout",
       "text": " 1976\n\tyear:"
      },
      {
       "output_type": "stream",
       "stream": "stdout",
       "text": " 1977\n\tyear:"
      },
      {
       "output_type": "stream",
       "stream": "stdout",
       "text": " 1978\n\tyear:"
      },
      {
       "output_type": "stream",
       "stream": "stdout",
       "text": " 1979\n\tyear:"
      },
      {
       "output_type": "stream",
       "stream": "stdout",
       "text": " 1980\n\tyear:"
      },
      {
       "output_type": "stream",
       "stream": "stdout",
       "text": " 1981\n\tyear:"
      },
      {
       "output_type": "stream",
       "stream": "stdout",
       "text": " 1982\n\tyear:"
      },
      {
       "output_type": "stream",
       "stream": "stdout",
       "text": " 1983\n\tyear:"
      },
      {
       "output_type": "stream",
       "stream": "stdout",
       "text": " 1984\n\tyear:"
      },
      {
       "output_type": "stream",
       "stream": "stdout",
       "text": " 1985\n\tyear:"
      },
      {
       "output_type": "stream",
       "stream": "stdout",
       "text": " 1986\n\tyear:"
      },
      {
       "output_type": "stream",
       "stream": "stdout",
       "text": " 1987\n\tyear:"
      },
      {
       "output_type": "stream",
       "stream": "stdout",
       "text": " 1988\n\tyear:"
      },
      {
       "output_type": "stream",
       "stream": "stdout",
       "text": " 1989\n\tyear:"
      },
      {
       "output_type": "stream",
       "stream": "stdout",
       "text": " 1990\n\tyear:"
      },
      {
       "output_type": "stream",
       "stream": "stdout",
       "text": " 1991\n\tyear:"
      },
      {
       "output_type": "stream",
       "stream": "stdout",
       "text": " 1992\n\tyear:"
      },
      {
       "output_type": "stream",
       "stream": "stdout",
       "text": " 1993\n\tyear:"
      },
      {
       "output_type": "stream",
       "stream": "stdout",
       "text": " 1994\n\tyear:"
      },
      {
       "output_type": "stream",
       "stream": "stdout",
       "text": " 1995\n\tyear:"
      },
      {
       "output_type": "stream",
       "stream": "stdout",
       "text": " 1996\n\tyear:"
      },
      {
       "output_type": "stream",
       "stream": "stdout",
       "text": " 1997\n\tyear:"
      },
      {
       "output_type": "stream",
       "stream": "stdout",
       "text": " 1998\n\tyear:"
      },
      {
       "output_type": "stream",
       "stream": "stdout",
       "text": " 1999\n\tyear:"
      },
      {
       "output_type": "stream",
       "stream": "stdout",
       "text": " 2000\n\tyear:"
      },
      {
       "output_type": "stream",
       "stream": "stdout",
       "text": " 2001\n\tyear:"
      },
      {
       "output_type": "stream",
       "stream": "stdout",
       "text": " 2002\n\tyear:"
      },
      {
       "output_type": "stream",
       "stream": "stdout",
       "text": " 2003\n\tyear:"
      },
      {
       "output_type": "stream",
       "stream": "stdout",
       "text": " 2004\n\tyear:"
      },
      {
       "output_type": "stream",
       "stream": "stdout",
       "text": " 2005\n\tyear:"
      },
      {
       "output_type": "stream",
       "stream": "stdout",
       "text": " 2006\n\tyear:"
      },
      {
       "output_type": "stream",
       "stream": "stdout",
       "text": " 2007\n\tyear:"
      },
      {
       "output_type": "stream",
       "stream": "stdout",
       "text": " 2008\n\tyear:"
      },
      {
       "output_type": "stream",
       "stream": "stdout",
       "text": " 2009\n\tyear:"
      },
      {
       "output_type": "stream",
       "stream": "stdout",
       "text": " 2010\n\tyear:"
      },
      {
       "output_type": "stream",
       "stream": "stdout",
       "text": " 2011\n\tyear:"
      },
      {
       "output_type": "stream",
       "stream": "stdout",
       "text": " 2012\n\tyear:"
      },
      {
       "output_type": "stream",
       "stream": "stdout",
       "text": " 2013\nstation: station-9439011\n\tyear:"
      },
      {
       "output_type": "stream",
       "stream": "stdout",
       "text": " 2011\n\tyear:"
      },
      {
       "output_type": "stream",
       "stream": "stdout",
       "text": " 2012\n\tyear:"
      },
      {
       "output_type": "stream",
       "stream": "stdout",
       "text": " 2013\nstation: station-8658120\n\tyear:"
      },
      {
       "output_type": "stream",
       "stream": "stdout",
       "text": " 1935\n\tyear:"
      },
      {
       "output_type": "stream",
       "stream": "stdout",
       "text": " 1936\n\tyear:"
      },
      {
       "output_type": "stream",
       "stream": "stdout",
       "text": " 1937\n\tyear:"
      },
      {
       "output_type": "stream",
       "stream": "stdout",
       "text": " 1938\n\tyear:"
      },
      {
       "output_type": "stream",
       "stream": "stdout",
       "text": " 1939\n\tyear:"
      },
      {
       "output_type": "stream",
       "stream": "stdout",
       "text": " 1940\n\tyear:"
      },
      {
       "output_type": "stream",
       "stream": "stdout",
       "text": " 1941\n\tyear:"
      },
      {
       "output_type": "stream",
       "stream": "stdout",
       "text": " 1942\n\tyear:"
      },
      {
       "output_type": "stream",
       "stream": "stdout",
       "text": " 1943\n\tyear:"
      },
      {
       "output_type": "stream",
       "stream": "stdout",
       "text": " 1944\n\tyear:"
      },
      {
       "output_type": "stream",
       "stream": "stdout",
       "text": " 1945\n\tyear:"
      },
      {
       "output_type": "stream",
       "stream": "stdout",
       "text": " 1946\n\tyear:"
      },
      {
       "output_type": "stream",
       "stream": "stdout",
       "text": " 1947\n\tyear:"
      },
      {
       "output_type": "stream",
       "stream": "stdout",
       "text": " 1948\n\tyear:"
      },
      {
       "output_type": "stream",
       "stream": "stdout",
       "text": " 1949\n\tyear:"
      },
      {
       "output_type": "stream",
       "stream": "stdout",
       "text": " 1950\n\tyear:"
      },
      {
       "output_type": "stream",
       "stream": "stdout",
       "text": " 1951\n\tyear:"
      },
      {
       "output_type": "stream",
       "stream": "stdout",
       "text": " 1952\n\tyear:"
      },
      {
       "output_type": "stream",
       "stream": "stdout",
       "text": " 1953\n\tyear:"
      },
      {
       "output_type": "stream",
       "stream": "stdout",
       "text": " 1954\n\tyear:"
      },
      {
       "output_type": "stream",
       "stream": "stdout",
       "text": " 1955\n\tyear:"
      },
      {
       "output_type": "stream",
       "stream": "stdout",
       "text": " 1956\n\tyear:"
      },
      {
       "output_type": "stream",
       "stream": "stdout",
       "text": " 1957\n\tyear:"
      },
      {
       "output_type": "stream",
       "stream": "stdout",
       "text": " 1958\n\tyear:"
      },
      {
       "output_type": "stream",
       "stream": "stdout",
       "text": " 1959\n\tyear:"
      },
      {
       "output_type": "stream",
       "stream": "stdout",
       "text": " 1960\n\tyear:"
      },
      {
       "output_type": "stream",
       "stream": "stdout",
       "text": " 1961\n\tyear:"
      },
      {
       "output_type": "stream",
       "stream": "stdout",
       "text": " 1962\n\tyear:"
      },
      {
       "output_type": "stream",
       "stream": "stdout",
       "text": " 1963\n\tyear:"
      },
      {
       "output_type": "stream",
       "stream": "stdout",
       "text": " 1964\n\tyear:"
      },
      {
       "output_type": "stream",
       "stream": "stdout",
       "text": " 1965\n\tyear:"
      },
      {
       "output_type": "stream",
       "stream": "stdout",
       "text": " 1966\n\tyear:"
      },
      {
       "output_type": "stream",
       "stream": "stdout",
       "text": " 1967\n\tyear:"
      },
      {
       "output_type": "stream",
       "stream": "stdout",
       "text": " 1968\n\tyear:"
      },
      {
       "output_type": "stream",
       "stream": "stdout",
       "text": " 1969\n\tyear:"
      },
      {
       "output_type": "stream",
       "stream": "stdout",
       "text": " 1970\n\tyear:"
      },
      {
       "output_type": "stream",
       "stream": "stdout",
       "text": " 1971\n\tyear:"
      },
      {
       "output_type": "stream",
       "stream": "stdout",
       "text": " 1972\n\tyear:"
      },
      {
       "output_type": "stream",
       "stream": "stdout",
       "text": " 1973\n\tyear:"
      },
      {
       "output_type": "stream",
       "stream": "stdout",
       "text": " 1974\n\tyear:"
      },
      {
       "output_type": "stream",
       "stream": "stdout",
       "text": " 1975\n\tyear:"
      },
      {
       "output_type": "stream",
       "stream": "stdout",
       "text": " 1976\n\tyear:"
      },
      {
       "output_type": "stream",
       "stream": "stdout",
       "text": " 1977\n\tyear:"
      },
      {
       "output_type": "stream",
       "stream": "stdout",
       "text": " 1978\n\tyear:"
      },
      {
       "output_type": "stream",
       "stream": "stdout",
       "text": " 1979\n\tyear:"
      },
      {
       "output_type": "stream",
       "stream": "stdout",
       "text": " 1980\n\tyear:"
      },
      {
       "output_type": "stream",
       "stream": "stdout",
       "text": " 1981\n\tyear:"
      },
      {
       "output_type": "stream",
       "stream": "stdout",
       "text": " 1982\n\tyear:"
      },
      {
       "output_type": "stream",
       "stream": "stdout",
       "text": " 1983\n\tyear:"
      },
      {
       "output_type": "stream",
       "stream": "stdout",
       "text": " 1984\n\tyear:"
      },
      {
       "output_type": "stream",
       "stream": "stdout",
       "text": " 1985\n\tyear:"
      },
      {
       "output_type": "stream",
       "stream": "stdout",
       "text": " 1986\n\tyear:"
      },
      {
       "output_type": "stream",
       "stream": "stdout",
       "text": " 1987\n\tyear:"
      },
      {
       "output_type": "stream",
       "stream": "stdout",
       "text": " 1988\n\tyear:"
      },
      {
       "output_type": "stream",
       "stream": "stdout",
       "text": " 1989\n\tyear:"
      },
      {
       "output_type": "stream",
       "stream": "stdout",
       "text": " 1990\n\tyear:"
      },
      {
       "output_type": "stream",
       "stream": "stdout",
       "text": " 1991\n\tyear:"
      },
      {
       "output_type": "stream",
       "stream": "stdout",
       "text": " 1992\n\tyear:"
      },
      {
       "output_type": "stream",
       "stream": "stdout",
       "text": " 1993\n\tyear:"
      },
      {
       "output_type": "stream",
       "stream": "stdout",
       "text": " 1994\n\tyear:"
      },
      {
       "output_type": "stream",
       "stream": "stdout",
       "text": " 1995\n\tyear:"
      },
      {
       "output_type": "stream",
       "stream": "stdout",
       "text": " 1996\n\tyear:"
      },
      {
       "output_type": "stream",
       "stream": "stdout",
       "text": " 1997\n\tyear:"
      },
      {
       "output_type": "stream",
       "stream": "stdout",
       "text": " 1998\n\tyear:"
      },
      {
       "output_type": "stream",
       "stream": "stdout",
       "text": " 1999\n\tyear:"
      },
      {
       "output_type": "stream",
       "stream": "stdout",
       "text": " 2000\n\tyear:"
      },
      {
       "output_type": "stream",
       "stream": "stdout",
       "text": " 2001\n\tyear:"
      },
      {
       "output_type": "stream",
       "stream": "stdout",
       "text": " 2002\n\tyear:"
      },
      {
       "output_type": "stream",
       "stream": "stdout",
       "text": " 2003\n\tyear:"
      },
      {
       "output_type": "stream",
       "stream": "stdout",
       "text": " 2004\n\tyear:"
      },
      {
       "output_type": "stream",
       "stream": "stdout",
       "text": " 2005\n\tyear:"
      },
      {
       "output_type": "stream",
       "stream": "stdout",
       "text": " 2006\n\tyear:"
      },
      {
       "output_type": "stream",
       "stream": "stdout",
       "text": " 2007\n\tyear:"
      },
      {
       "output_type": "stream",
       "stream": "stdout",
       "text": " 2008\n\tyear:"
      },
      {
       "output_type": "stream",
       "stream": "stdout",
       "text": " 2009\n\tyear:"
      },
      {
       "output_type": "stream",
       "stream": "stdout",
       "text": " 2010\n\tyear:"
      },
      {
       "output_type": "stream",
       "stream": "stdout",
       "text": " 2011\n\tyear:"
      },
      {
       "output_type": "stream",
       "stream": "stdout",
       "text": " 2012\n\tyear:"
      },
      {
       "output_type": "stream",
       "stream": "stdout",
       "text": " 2013\nstation: station-9415144\n\tyear:"
      },
      {
       "output_type": "stream",
       "stream": "stdout",
       "text": " 1996\n\tyear:"
      },
      {
       "output_type": "stream",
       "stream": "stdout",
       "text": " 1997\n\tyear:"
      },
      {
       "output_type": "stream",
       "stream": "stdout",
       "text": " 1998\n\tyear:"
      },
      {
       "output_type": "stream",
       "stream": "stdout",
       "text": " 1999\n\tyear:"
      },
      {
       "output_type": "stream",
       "stream": "stdout",
       "text": " 2000\n\tyear:"
      },
      {
       "output_type": "stream",
       "stream": "stdout",
       "text": " 2001\n\tyear:"
      },
      {
       "output_type": "stream",
       "stream": "stdout",
       "text": " 2002\n\tyear:"
      },
      {
       "output_type": "stream",
       "stream": "stdout",
       "text": " 2003\n\tyear:"
      },
      {
       "output_type": "stream",
       "stream": "stdout",
       "text": " 2004\n\tyear:"
      },
      {
       "output_type": "stream",
       "stream": "stdout",
       "text": " 2005\n\tyear:"
      },
      {
       "output_type": "stream",
       "stream": "stdout",
       "text": " 2006\n\tyear:"
      },
      {
       "output_type": "stream",
       "stream": "stdout",
       "text": " 2007\n\tyear:"
      },
      {
       "output_type": "stream",
       "stream": "stdout",
       "text": " 2008\n\tyear:"
      },
      {
       "output_type": "stream",
       "stream": "stdout",
       "text": " 2009\n\tyear:"
      },
      {
       "output_type": "stream",
       "stream": "stdout",
       "text": " 2010\n\tyear:"
      },
      {
       "output_type": "stream",
       "stream": "stdout",
       "text": " 2011\n\tyear:"
      },
      {
       "output_type": "stream",
       "stream": "stdout",
       "text": " 2012\n\tyear:"
      },
      {
       "output_type": "stream",
       "stream": "stdout",
       "text": " 2013\nstation: station-9075065\nstation:"
      },
      {
       "output_type": "stream",
       "stream": "stdout",
       "text": " station-8735523\n\tyear:"
      },
      {
       "output_type": "stream",
       "stream": "stdout",
       "text": " 2011\n\tyear:"
      },
      {
       "output_type": "stream",
       "stream": "stdout",
       "text": " 2012\n\tyear:"
      },
      {
       "output_type": "stream",
       "stream": "stdout",
       "text": " 2013\nstation: station-8726384\n\tyear:"
      },
      {
       "output_type": "stream",
       "stream": "stdout",
       "text": " 1996\n\tyear:"
      },
      {
       "output_type": "stream",
       "stream": "stdout",
       "text": " 1999\n\tyear:"
      },
      {
       "output_type": "stream",
       "stream": "stdout",
       "text": " 2000\n\tyear:"
      },
      {
       "output_type": "stream",
       "stream": "stdout",
       "text": " 2001\n\tyear:"
      },
      {
       "output_type": "stream",
       "stream": "stdout",
       "text": " 2002\n\tyear:"
      },
      {
       "output_type": "stream",
       "stream": "stdout",
       "text": " 2003\n\tyear:"
      },
      {
       "output_type": "stream",
       "stream": "stdout",
       "text": " 2004\n\tyear:"
      },
      {
       "output_type": "stream",
       "stream": "stdout",
       "text": " 2005\n\tyear:"
      },
      {
       "output_type": "stream",
       "stream": "stdout",
       "text": " 2006\n\tyear:"
      },
      {
       "output_type": "stream",
       "stream": "stdout",
       "text": " 2007\n\tyear:"
      },
      {
       "output_type": "stream",
       "stream": "stdout",
       "text": " 2008\n\tyear:"
      },
      {
       "output_type": "stream",
       "stream": "stdout",
       "text": " 2009\n\tyear:"
      },
      {
       "output_type": "stream",
       "stream": "stdout",
       "text": " 2010\n\tyear:"
      },
      {
       "output_type": "stream",
       "stream": "stdout",
       "text": " 2011\n\tyear:"
      },
      {
       "output_type": "stream",
       "stream": "stdout",
       "text": " 2012\n\tyear:"
      },
      {
       "output_type": "stream",
       "stream": "stdout",
       "text": " 2013\nstation: station-9751364\n\tyear:"
      },
      {
       "output_type": "stream",
       "stream": "stdout",
       "text": " 2006\n\tyear:"
      },
      {
       "output_type": "stream",
       "stream": "stdout",
       "text": " 2007\n\tyear:"
      },
      {
       "output_type": "stream",
       "stream": "stdout",
       "text": " 2008\n\tyear:"
      },
      {
       "output_type": "stream",
       "stream": "stdout",
       "text": " 2009\n\tyear:"
      },
      {
       "output_type": "stream",
       "stream": "stdout",
       "text": " 2010\n\tyear:"
      },
      {
       "output_type": "stream",
       "stream": "stdout",
       "text": " 2011\n\tyear:"
      },
      {
       "output_type": "stream",
       "stream": "stdout",
       "text": " 2012\n\tyear:"
      },
      {
       "output_type": "stream",
       "stream": "stdout",
       "text": " 2013\nstation: station-8736897\n\tyear:"
      },
      {
       "output_type": "stream",
       "stream": "stdout",
       "text": " 2007\n\tyear:"
      },
      {
       "output_type": "stream",
       "stream": "stdout",
       "text": " 2008\n\tyear:"
      },
      {
       "output_type": "stream",
       "stream": "stdout",
       "text": " 2009\n\tyear:"
      },
      {
       "output_type": "stream",
       "stream": "stdout",
       "text": " 2010\n\tyear:"
      },
      {
       "output_type": "stream",
       "stream": "stdout",
       "text": " 2011\n\tyear:"
      },
      {
       "output_type": "stream",
       "stream": "stdout",
       "text": " 2012\n\tyear:"
      },
      {
       "output_type": "stream",
       "stream": "stdout",
       "text": " 2013\nstation: station-9759394\n\tyear:"
      },
      {
       "output_type": "stream",
       "stream": "stdout",
       "text": " 2008\n\tyear:"
      },
      {
       "output_type": "stream",
       "stream": "stdout",
       "text": " 2009\n\tyear:"
      },
      {
       "output_type": "stream",
       "stream": "stdout",
       "text": " 2010\n\tyear:"
      },
      {
       "output_type": "stream",
       "stream": "stdout",
       "text": " 2011\n\tyear:"
      },
      {
       "output_type": "stream",
       "stream": "stdout",
       "text": " 2012\n\tyear:"
      },
      {
       "output_type": "stream",
       "stream": "stdout",
       "text": " 2013\nstation: station-8776139\n\tyear:"
      },
      {
       "output_type": "stream",
       "stream": "stdout",
       "text": " 2012\n\tyear:"
      },
      {
       "output_type": "stream",
       "stream": "stdout",
       "text": " 2013\nstation: station-9052058\nstation:"
      },
      {
       "output_type": "stream",
       "stream": "stdout",
       "text": " station-9063079\nstation:"
      },
      {
       "output_type": "stream",
       "stream": "stdout",
       "text": " station-9052030\nstation: station-8761305\n\tyear:"
      },
      {
       "output_type": "stream",
       "stream": "stdout",
       "text": " 1982\n\tyear:"
      },
      {
       "output_type": "stream",
       "stream": "stdout",
       "text": " 1983\n\tyear:"
      },
      {
       "output_type": "stream",
       "stream": "stdout",
       "text": " 1984\n\tyear:"
      },
      {
       "output_type": "stream",
       "stream": "stdout",
       "text": " 2008\n\tyear:"
      },
      {
       "output_type": "stream",
       "stream": "stdout",
       "text": " 2009\n\tyear:"
      },
      {
       "output_type": "stream",
       "stream": "stdout",
       "text": " 2010\n\tyear:"
      },
      {
       "output_type": "stream",
       "stream": "stdout",
       "text": " 2011\n\tyear:"
      },
      {
       "output_type": "stream",
       "stream": "stdout",
       "text": " 2012\n\tyear:"
      },
      {
       "output_type": "stream",
       "stream": "stdout",
       "text": " 2013\nstation: station-8635750\n\tyear:"
      },
      {
       "output_type": "stream",
       "stream": "stdout",
       "text": " 1996\n\tyear:"
      },
      {
       "output_type": "stream",
       "stream": "stdout",
       "text": " 1997\n\tyear:"
      },
      {
       "output_type": "stream",
       "stream": "stdout",
       "text": " 1998\n\tyear:"
      },
      {
       "output_type": "stream",
       "stream": "stdout",
       "text": " 1999\n\tyear:"
      },
      {
       "output_type": "stream",
       "stream": "stdout",
       "text": " 2000\n\tyear:"
      },
      {
       "output_type": "stream",
       "stream": "stdout",
       "text": " 2001\n\tyear:"
      },
      {
       "output_type": "stream",
       "stream": "stdout",
       "text": " 2002\n\tyear:"
      },
      {
       "output_type": "stream",
       "stream": "stdout",
       "text": " 2003\n\tyear:"
      },
      {
       "output_type": "stream",
       "stream": "stdout",
       "text": " 2004\n\tyear:"
      },
      {
       "output_type": "stream",
       "stream": "stdout",
       "text": " 2005\n\tyear:"
      },
      {
       "output_type": "stream",
       "stream": "stdout",
       "text": " 2006\n\tyear:"
      },
      {
       "output_type": "stream",
       "stream": "stdout",
       "text": " 2007\n\tyear:"
      },
      {
       "output_type": "stream",
       "stream": "stdout",
       "text": " 2008\n\tyear:"
      },
      {
       "output_type": "stream",
       "stream": "stdout",
       "text": " 2009\n\tyear:"
      },
      {
       "output_type": "stream",
       "stream": "stdout",
       "text": " 2010\n\tyear:"
      },
      {
       "output_type": "stream",
       "stream": "stdout",
       "text": " 2011\n\tyear:"
      },
      {
       "output_type": "stream",
       "stream": "stdout",
       "text": " 2012\n\tyear:"
      },
      {
       "output_type": "stream",
       "stream": "stdout",
       "text": " 2013\nstation: station-8779770\n\tyear:"
      },
      {
       "output_type": "stream",
       "stream": "stdout",
       "text": " 1977\n\tyear:"
      },
      {
       "output_type": "stream",
       "stream": "stdout",
       "text": " 1978\n\tyear:"
      },
      {
       "ename": "Timeout",
       "evalue": "HTTPConnectionPool(host='tidesandcurrents.noaa.gov', port=80): Read timed out. (read timeout=10)",
       "output_type": "pyerr",
       "traceback": [
        "\u001b[0;31m---------------------------------------------------------------------------\u001b[0m\n\u001b[0;31mTimeout\u001b[0m                                   Traceback (most recent call last)",
        "\u001b[0;32m<ipython-input-243-4223136ded01>\u001b[0m in \u001b[0;36m<module>\u001b[0;34m()\u001b[0m\n\u001b[1;32m     11\u001b[0m         \u001b[0mstation_request\u001b[0m \u001b[0;34m=\u001b[0m \u001b[0;34m\"&station=\"\u001b[0m\u001b[0;34m+\u001b[0m\u001b[0mstation_id\u001b[0m\u001b[0;34m+\u001b[0m\u001b[0;34m\"&time_zone=GMT&units=english&format=json\"\u001b[0m\u001b[0;34m\u001b[0m\u001b[0m\n\u001b[1;32m     12\u001b[0m         \u001b[0mhttp_request\u001b[0m \u001b[0;34m=\u001b[0m \u001b[0mlink\u001b[0m\u001b[0;34m+\u001b[0m\u001b[0mdate1\u001b[0m\u001b[0;34m+\u001b[0m\u001b[0mdate2\u001b[0m\u001b[0;34m+\u001b[0m\u001b[0mdatum\u001b[0m\u001b[0;34m+\u001b[0m\u001b[0mstation_request\u001b[0m\u001b[0;34m\u001b[0m\u001b[0m\n\u001b[0;32m---> 13\u001b[0;31m         \u001b[0md_r\u001b[0m \u001b[0;34m=\u001b[0m \u001b[0mrequests\u001b[0m\u001b[0;34m.\u001b[0m\u001b[0mget\u001b[0m\u001b[0;34m(\u001b[0m\u001b[0mhttp_request\u001b[0m\u001b[0;34m,\u001b[0m\u001b[0mtimeout\u001b[0m\u001b[0;34m=\u001b[0m\u001b[0;36m10\u001b[0m\u001b[0;34m)\u001b[0m\u001b[0;34m\u001b[0m\u001b[0m\n\u001b[0m\u001b[1;32m     14\u001b[0m         \u001b[0;32mif\u001b[0m \u001b[0;34m\"Great Lake station\"\u001b[0m \u001b[0;32min\u001b[0m \u001b[0md_r\u001b[0m\u001b[0;34m.\u001b[0m\u001b[0mtext\u001b[0m\u001b[0;34m:\u001b[0m\u001b[0;34m\u001b[0m\u001b[0m\n\u001b[1;32m     15\u001b[0m             \u001b[0;31m#TODO fix great lakes\u001b[0m\u001b[0;34m\u001b[0m\u001b[0;34m\u001b[0m\u001b[0m\n",
        "\u001b[0;32m/Users/rpsdev/Documents/Dev/virtenvs/work/lib/python2.7/site-packages/requests/api.pyc\u001b[0m in \u001b[0;36mget\u001b[0;34m(url, **kwargs)\u001b[0m\n\u001b[1;32m     53\u001b[0m \u001b[0;34m\u001b[0m\u001b[0m\n\u001b[1;32m     54\u001b[0m     \u001b[0mkwargs\u001b[0m\u001b[0;34m.\u001b[0m\u001b[0msetdefault\u001b[0m\u001b[0;34m(\u001b[0m\u001b[0;34m'allow_redirects'\u001b[0m\u001b[0;34m,\u001b[0m \u001b[0mTrue\u001b[0m\u001b[0;34m)\u001b[0m\u001b[0;34m\u001b[0m\u001b[0m\n\u001b[0;32m---> 55\u001b[0;31m     \u001b[0;32mreturn\u001b[0m \u001b[0mrequest\u001b[0m\u001b[0;34m(\u001b[0m\u001b[0;34m'get'\u001b[0m\u001b[0;34m,\u001b[0m \u001b[0murl\u001b[0m\u001b[0;34m,\u001b[0m \u001b[0;34m**\u001b[0m\u001b[0mkwargs\u001b[0m\u001b[0;34m)\u001b[0m\u001b[0;34m\u001b[0m\u001b[0m\n\u001b[0m\u001b[1;32m     56\u001b[0m \u001b[0;34m\u001b[0m\u001b[0m\n\u001b[1;32m     57\u001b[0m \u001b[0;34m\u001b[0m\u001b[0m\n",
        "\u001b[0;32m/Users/rpsdev/Documents/Dev/virtenvs/work/lib/python2.7/site-packages/requests/api.pyc\u001b[0m in \u001b[0;36mrequest\u001b[0;34m(method, url, **kwargs)\u001b[0m\n\u001b[1;32m     42\u001b[0m \u001b[0;34m\u001b[0m\u001b[0m\n\u001b[1;32m     43\u001b[0m     \u001b[0msession\u001b[0m \u001b[0;34m=\u001b[0m \u001b[0msessions\u001b[0m\u001b[0;34m.\u001b[0m\u001b[0mSession\u001b[0m\u001b[0;34m(\u001b[0m\u001b[0;34m)\u001b[0m\u001b[0;34m\u001b[0m\u001b[0m\n\u001b[0;32m---> 44\u001b[0;31m     \u001b[0;32mreturn\u001b[0m \u001b[0msession\u001b[0m\u001b[0;34m.\u001b[0m\u001b[0mrequest\u001b[0m\u001b[0;34m(\u001b[0m\u001b[0mmethod\u001b[0m\u001b[0;34m=\u001b[0m\u001b[0mmethod\u001b[0m\u001b[0;34m,\u001b[0m \u001b[0murl\u001b[0m\u001b[0;34m=\u001b[0m\u001b[0murl\u001b[0m\u001b[0;34m,\u001b[0m \u001b[0;34m**\u001b[0m\u001b[0mkwargs\u001b[0m\u001b[0;34m)\u001b[0m\u001b[0;34m\u001b[0m\u001b[0m\n\u001b[0m\u001b[1;32m     45\u001b[0m \u001b[0;34m\u001b[0m\u001b[0m\n\u001b[1;32m     46\u001b[0m \u001b[0;34m\u001b[0m\u001b[0m\n",
        "\u001b[0;32m/Users/rpsdev/Documents/Dev/virtenvs/work/lib/python2.7/site-packages/requests/sessions.pyc\u001b[0m in \u001b[0;36mrequest\u001b[0;34m(self, method, url, params, data, headers, cookies, files, auth, timeout, allow_redirects, proxies, hooks, stream, verify, cert)\u001b[0m\n\u001b[1;32m    381\u001b[0m             \u001b[0;34m'allow_redirects'\u001b[0m\u001b[0;34m:\u001b[0m \u001b[0mallow_redirects\u001b[0m\u001b[0;34m,\u001b[0m\u001b[0;34m\u001b[0m\u001b[0m\n\u001b[1;32m    382\u001b[0m         }\n\u001b[0;32m--> 383\u001b[0;31m         \u001b[0mresp\u001b[0m \u001b[0;34m=\u001b[0m \u001b[0mself\u001b[0m\u001b[0;34m.\u001b[0m\u001b[0msend\u001b[0m\u001b[0;34m(\u001b[0m\u001b[0mprep\u001b[0m\u001b[0;34m,\u001b[0m \u001b[0;34m**\u001b[0m\u001b[0msend_kwargs\u001b[0m\u001b[0;34m)\u001b[0m\u001b[0;34m\u001b[0m\u001b[0m\n\u001b[0m\u001b[1;32m    384\u001b[0m \u001b[0;34m\u001b[0m\u001b[0m\n\u001b[1;32m    385\u001b[0m         \u001b[0;32mreturn\u001b[0m \u001b[0mresp\u001b[0m\u001b[0;34m\u001b[0m\u001b[0m\n",
        "\u001b[0;32m/Users/rpsdev/Documents/Dev/virtenvs/work/lib/python2.7/site-packages/requests/sessions.pyc\u001b[0m in \u001b[0;36msend\u001b[0;34m(self, request, **kwargs)\u001b[0m\n\u001b[1;32m    484\u001b[0m         \u001b[0mstart\u001b[0m \u001b[0;34m=\u001b[0m \u001b[0mdatetime\u001b[0m\u001b[0;34m.\u001b[0m\u001b[0mutcnow\u001b[0m\u001b[0;34m(\u001b[0m\u001b[0;34m)\u001b[0m\u001b[0;34m\u001b[0m\u001b[0m\n\u001b[1;32m    485\u001b[0m         \u001b[0;31m# Send the request\u001b[0m\u001b[0;34m\u001b[0m\u001b[0;34m\u001b[0m\u001b[0m\n\u001b[0;32m--> 486\u001b[0;31m         \u001b[0mr\u001b[0m \u001b[0;34m=\u001b[0m \u001b[0madapter\u001b[0m\u001b[0;34m.\u001b[0m\u001b[0msend\u001b[0m\u001b[0;34m(\u001b[0m\u001b[0mrequest\u001b[0m\u001b[0;34m,\u001b[0m \u001b[0;34m**\u001b[0m\u001b[0mkwargs\u001b[0m\u001b[0;34m)\u001b[0m\u001b[0;34m\u001b[0m\u001b[0m\n\u001b[0m\u001b[1;32m    487\u001b[0m         \u001b[0;31m# Total elapsed time of the request (approximately)\u001b[0m\u001b[0;34m\u001b[0m\u001b[0;34m\u001b[0m\u001b[0m\n\u001b[1;32m    488\u001b[0m         \u001b[0mr\u001b[0m\u001b[0;34m.\u001b[0m\u001b[0melapsed\u001b[0m \u001b[0;34m=\u001b[0m \u001b[0mdatetime\u001b[0m\u001b[0;34m.\u001b[0m\u001b[0mutcnow\u001b[0m\u001b[0;34m(\u001b[0m\u001b[0;34m)\u001b[0m \u001b[0;34m-\u001b[0m \u001b[0mstart\u001b[0m\u001b[0;34m\u001b[0m\u001b[0m\n",
        "\u001b[0;32m/Users/rpsdev/Documents/Dev/virtenvs/work/lib/python2.7/site-packages/requests/adapters.pyc\u001b[0m in \u001b[0;36msend\u001b[0;34m(self, request, stream, timeout, verify, cert, proxies)\u001b[0m\n\u001b[1;32m    385\u001b[0m                 \u001b[0;32mraise\u001b[0m \u001b[0mSSLError\u001b[0m\u001b[0;34m(\u001b[0m\u001b[0me\u001b[0m\u001b[0;34m)\u001b[0m\u001b[0;34m\u001b[0m\u001b[0m\n\u001b[1;32m    386\u001b[0m             \u001b[0;32melif\u001b[0m \u001b[0misinstance\u001b[0m\u001b[0;34m(\u001b[0m\u001b[0me\u001b[0m\u001b[0;34m,\u001b[0m \u001b[0mTimeoutError\u001b[0m\u001b[0;34m)\u001b[0m\u001b[0;34m:\u001b[0m\u001b[0;34m\u001b[0m\u001b[0m\n\u001b[0;32m--> 387\u001b[0;31m                 \u001b[0;32mraise\u001b[0m \u001b[0mTimeout\u001b[0m\u001b[0;34m(\u001b[0m\u001b[0me\u001b[0m\u001b[0;34m)\u001b[0m\u001b[0;34m\u001b[0m\u001b[0m\n\u001b[0m\u001b[1;32m    388\u001b[0m             \u001b[0;32melse\u001b[0m\u001b[0;34m:\u001b[0m\u001b[0;34m\u001b[0m\u001b[0m\n\u001b[1;32m    389\u001b[0m                 \u001b[0;32mraise\u001b[0m\u001b[0;34m\u001b[0m\u001b[0m\n",
        "\u001b[0;31mTimeout\u001b[0m: HTTPConnectionPool(host='tidesandcurrents.noaa.gov', port=80): Read timed out. (read timeout=10)"
       ]
      },
      {
       "output_type": "stream",
       "stream": "stdout",
       "text": " 1979\n"
      }
     ],
     "prompt_number": 243
    },
    {
     "cell_type": "code",
     "collapsed": false,
     "input": "#print it out\n#print json.dumps(all_data_dict, indent=4, sort_keys=True)\nwith open(\"stations.json\", \"w\") as outfile:\n    json.dump(all_data_dict, outfile, indent=4)",
     "language": "python",
     "metadata": {},
     "outputs": [],
     "prompt_number": 244
    },
    {
     "cell_type": "code",
     "collapsed": false,
     "input": "",
     "language": "python",
     "metadata": {},
     "outputs": []
    }
   ],
   "metadata": {}
  }
 ]
}